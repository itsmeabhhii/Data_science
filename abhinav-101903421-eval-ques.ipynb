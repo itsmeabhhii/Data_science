{
 "cells": [
  {
   "cell_type": "code",
   "execution_count": 1,
   "id": "eebe8c77",
   "metadata": {
    "_cell_guid": "b1076dfc-b9ad-4769-8c92-a6c4dae69d19",
    "_uuid": "8f2839f25d086af736a60e9eeb907d3b93b6e0e5",
    "execution": {
     "iopub.execute_input": "2022-03-16T10:04:25.732378Z",
     "iopub.status.busy": "2022-03-16T10:04:25.730915Z",
     "iopub.status.idle": "2022-03-16T10:04:25.744104Z",
     "shell.execute_reply": "2022-03-16T10:04:25.744837Z"
    },
    "papermill": {
     "duration": 0.068606,
     "end_time": "2022-03-16T10:04:25.745192",
     "exception": false,
     "start_time": "2022-03-16T10:04:25.676586",
     "status": "completed"
    },
    "tags": []
   },
   "outputs": [
    {
     "name": "stdout",
     "output_type": "stream",
     "text": [
      "/kaggle/input/ammi-dataset/Sample_Submission.csv\n",
      "/kaggle/input/ammi-dataset/train.csv\n",
      "/kaggle/input/ammi-dataset/test.csv\n"
     ]
    }
   ],
   "source": [
    "# This Python 3 environment comes with many helpful analytics libraries installed\n",
    "# It is defined by the kaggle/python Docker image: https://github.com/kaggle/docker-python\n",
    "# For example, here's several helpful packages to load\n",
    "\n",
    "import numpy as np # linear algebra\n",
    "import pandas as pd # data processing, CSV file I/O (e.g. pd.read_csv)\n",
    "\n",
    "# Input data files are available in the read-only \"../input/\" directory\n",
    "# For example, running this (by clicking run or pressing Shift+Enter) will list all files under the input directory\n",
    "\n",
    "import os\n",
    "for dirname, _, filenames in os.walk('/kaggle/input'):\n",
    "    for filename in filenames:\n",
    "        print(os.path.join(dirname, filename))\n",
    "\n",
    "# You can write up to 20GB to the current directory (/kaggle/working/) that gets preserved as output when you create a version using \"Save & Run All\" \n",
    "# You can also write temporary files to /kaggle/temp/, but they won't be saved outside of the current session"
   ]
  },
  {
   "cell_type": "markdown",
   "id": "e55dbeb6",
   "metadata": {
    "papermill": {
     "duration": 0.042866,
     "end_time": "2022-03-16T10:04:25.828813",
     "exception": false,
     "start_time": "2022-03-16T10:04:25.785947",
     "status": "completed"
    },
    "tags": []
   },
   "source": [
    "# Some discription --> Now here i am just implimenting the AMMI kaggle challange against which i am given some lables\n",
    "Such that i have to pridict the price of wine\n",
    "# Models Used -->Cuml and cudf Based\n",
    "doing the preprocessing using the pandas Framework here\n",
    "# For the Model building pourposes I am using the Cuml and cudf Models"
   ]
  },
  {
   "cell_type": "code",
   "execution_count": 2,
   "id": "0922ada7",
   "metadata": {
    "execution": {
     "iopub.execute_input": "2022-03-16T10:04:25.921959Z",
     "iopub.status.busy": "2022-03-16T10:04:25.921238Z",
     "iopub.status.idle": "2022-03-16T10:04:28.616755Z",
     "shell.execute_reply": "2022-03-16T10:04:28.616087Z",
     "shell.execute_reply.started": "2022-03-16T09:22:09.596581Z"
    },
    "papermill": {
     "duration": 2.743969,
     "end_time": "2022-03-16T10:04:28.616885",
     "exception": false,
     "start_time": "2022-03-16T10:04:25.872916",
     "status": "completed"
    },
    "tags": []
   },
   "outputs": [],
   "source": [
    "#importing the Files here\n",
    "import pandas as pd\n",
    "train = pd.read_csv('../input/ammi-dataset/train.csv')\n",
    "test=pd.read_csv('../input/ammi-dataset/test.csv')"
   ]
  },
  {
   "cell_type": "code",
   "execution_count": 3,
   "id": "78f0b0b3",
   "metadata": {
    "execution": {
     "iopub.execute_input": "2022-03-16T10:04:28.708348Z",
     "iopub.status.busy": "2022-03-16T10:04:28.707524Z",
     "iopub.status.idle": "2022-03-16T10:04:32.729892Z",
     "shell.execute_reply": "2022-03-16T10:04:32.730398Z",
     "shell.execute_reply.started": "2022-03-16T09:22:13.058010Z"
    },
    "papermill": {
     "duration": 4.07147,
     "end_time": "2022-03-16T10:04:32.730580",
     "exception": false,
     "start_time": "2022-03-16T10:04:28.659110",
     "status": "completed"
    },
    "tags": []
   },
   "outputs": [],
   "source": [
    "#some cudf and cuml based models which help us out in implimenting the above challange using various models\n",
    "import cupy as cp\n",
    "import cuml\n",
    "from cuml.linear_model import LogisticRegression\n",
    "from cuml.ensemble import RandomForestClassifier as cuRFC\n",
    "from cuml.naive_bayes import MultinomialNB\n",
    "from cuml.svm import SVC\n",
    "from cuml.linear_model import LogisticRegression\n",
    "from cuml.multiclass import MulticlassClassifier\n",
    "from cuml.multiclass import OneVsRestClassifier\n",
    "from sklearn.metrics import mean_absolute_error,mean_squared_error,r2_score"
   ]
  },
  {
   "cell_type": "code",
   "execution_count": 4,
   "id": "80e2eb72",
   "metadata": {
    "execution": {
     "iopub.execute_input": "2022-03-16T10:04:32.817084Z",
     "iopub.status.busy": "2022-03-16T10:04:32.816273Z",
     "iopub.status.idle": "2022-03-16T10:04:32.834346Z",
     "shell.execute_reply": "2022-03-16T10:04:32.834778Z",
     "shell.execute_reply.started": "2022-03-16T09:22:16.504131Z"
    },
    "papermill": {
     "duration": 0.065728,
     "end_time": "2022-03-16T10:04:32.834928",
     "exception": false,
     "start_time": "2022-03-16T10:04:32.769200",
     "status": "completed"
    },
    "tags": []
   },
   "outputs": [
    {
     "data": {
      "text/html": [
       "<div>\n",
       "<style scoped>\n",
       "    .dataframe tbody tr th:only-of-type {\n",
       "        vertical-align: middle;\n",
       "    }\n",
       "\n",
       "    .dataframe tbody tr th {\n",
       "        vertical-align: top;\n",
       "    }\n",
       "\n",
       "    .dataframe thead th {\n",
       "        text-align: right;\n",
       "    }\n",
       "</style>\n",
       "<table border=\"1\" class=\"dataframe\">\n",
       "  <thead>\n",
       "    <tr style=\"text-align: right;\">\n",
       "      <th></th>\n",
       "      <th>country</th>\n",
       "      <th>description</th>\n",
       "      <th>designation</th>\n",
       "      <th>points</th>\n",
       "      <th>price</th>\n",
       "      <th>province</th>\n",
       "      <th>region_1</th>\n",
       "      <th>region_2</th>\n",
       "      <th>taster_name</th>\n",
       "      <th>taster_twitter_handle</th>\n",
       "      <th>title</th>\n",
       "      <th>variety</th>\n",
       "      <th>winery</th>\n",
       "      <th>id</th>\n",
       "    </tr>\n",
       "  </thead>\n",
       "  <tbody>\n",
       "    <tr>\n",
       "      <th>0</th>\n",
       "      <td>Portugal</td>\n",
       "      <td>This is a fine rich balanced wine. It has ripe...</td>\n",
       "      <td>Vila Santa Reserva</td>\n",
       "      <td>88.870874</td>\n",
       "      <td>20.0</td>\n",
       "      <td>Alentejano</td>\n",
       "      <td>NaN</td>\n",
       "      <td>NaN</td>\n",
       "      <td>NaN</td>\n",
       "      <td>NaN</td>\n",
       "      <td>NaN</td>\n",
       "      <td>PORTUGUESE RED</td>\n",
       "      <td>J. Portugal Ramos</td>\n",
       "      <td>32027</td>\n",
       "    </tr>\n",
       "    <tr>\n",
       "      <th>1</th>\n",
       "      <td>France</td>\n",
       "      <td>A solid, chunky wine, with a structure that is...</td>\n",
       "      <td>NaN</td>\n",
       "      <td>88.041695</td>\n",
       "      <td>28.0</td>\n",
       "      <td>Bordeaux</td>\n",
       "      <td>Lalande de Pomerol</td>\n",
       "      <td>NaN</td>\n",
       "      <td>NaN</td>\n",
       "      <td>NaN</td>\n",
       "      <td>NaN</td>\n",
       "      <td>BORDEAUX-STYLE RED BLEND</td>\n",
       "      <td>Château Tour Grand Colombier</td>\n",
       "      <td>71079</td>\n",
       "    </tr>\n",
       "    <tr>\n",
       "      <th>2</th>\n",
       "      <td>France</td>\n",
       "      <td>This is powerful and concentrated, with the hi...</td>\n",
       "      <td>NaN</td>\n",
       "      <td>94.085021</td>\n",
       "      <td>130.0</td>\n",
       "      <td>Bordeaux</td>\n",
       "      <td>Saint-Émilion</td>\n",
       "      <td>NaN</td>\n",
       "      <td>NaN</td>\n",
       "      <td>NaN</td>\n",
       "      <td>NaN</td>\n",
       "      <td>BORDEAUX-STYLE RED BLEND</td>\n",
       "      <td>Château Figeac</td>\n",
       "      <td>32440</td>\n",
       "    </tr>\n",
       "    <tr>\n",
       "      <th>3</th>\n",
       "      <td>US</td>\n",
       "      <td>Rich, ripe and oaky, this Petite Sirah charms ...</td>\n",
       "      <td>Thompson Vineyard</td>\n",
       "      <td>89.869797</td>\n",
       "      <td>34.0</td>\n",
       "      <td>California</td>\n",
       "      <td>Santa Barbara County</td>\n",
       "      <td>Central Coast</td>\n",
       "      <td>NaN</td>\n",
       "      <td>NaN</td>\n",
       "      <td>Jaffurs 2010 Thompson Vineyard Petite Sirah (S...</td>\n",
       "      <td>PETITE SIRAH</td>\n",
       "      <td>Jaffurs</td>\n",
       "      <td>124405</td>\n",
       "    </tr>\n",
       "    <tr>\n",
       "      <th>4</th>\n",
       "      <td>US</td>\n",
       "      <td>This wine is a unique in the state blend and f...</td>\n",
       "      <td>McKinley Springs Vineyard</td>\n",
       "      <td>89.017651</td>\n",
       "      <td>24.0</td>\n",
       "      <td>Washington</td>\n",
       "      <td>Horse Heaven Hills</td>\n",
       "      <td>Columbia Valley</td>\n",
       "      <td>Sean P. Sullivan</td>\n",
       "      <td>@wawinereport</td>\n",
       "      <td>Syncline 2016 McKinley Springs Vineyard Rosé (...</td>\n",
       "      <td>ROSé</td>\n",
       "      <td>Syncline</td>\n",
       "      <td>33649</td>\n",
       "    </tr>\n",
       "  </tbody>\n",
       "</table>\n",
       "</div>"
      ],
      "text/plain": [
       "    country                                        description  \\\n",
       "0  Portugal  This is a fine rich balanced wine. It has ripe...   \n",
       "1    France  A solid, chunky wine, with a structure that is...   \n",
       "2    France  This is powerful and concentrated, with the hi...   \n",
       "3        US  Rich, ripe and oaky, this Petite Sirah charms ...   \n",
       "4        US  This wine is a unique in the state blend and f...   \n",
       "\n",
       "                 designation     points  price    province  \\\n",
       "0         Vila Santa Reserva  88.870874   20.0  Alentejano   \n",
       "1                        NaN  88.041695   28.0    Bordeaux   \n",
       "2                        NaN  94.085021  130.0    Bordeaux   \n",
       "3          Thompson Vineyard  89.869797   34.0  California   \n",
       "4  McKinley Springs Vineyard  89.017651   24.0  Washington   \n",
       "\n",
       "               region_1         region_2       taster_name  \\\n",
       "0                   NaN              NaN               NaN   \n",
       "1    Lalande de Pomerol              NaN               NaN   \n",
       "2         Saint-Émilion              NaN               NaN   \n",
       "3  Santa Barbara County    Central Coast               NaN   \n",
       "4    Horse Heaven Hills  Columbia Valley  Sean P. Sullivan   \n",
       "\n",
       "  taster_twitter_handle                                              title  \\\n",
       "0                   NaN                                                NaN   \n",
       "1                   NaN                                                NaN   \n",
       "2                   NaN                                                NaN   \n",
       "3                   NaN  Jaffurs 2010 Thompson Vineyard Petite Sirah (S...   \n",
       "4         @wawinereport  Syncline 2016 McKinley Springs Vineyard Rosé (...   \n",
       "\n",
       "                    variety                        winery      id  \n",
       "0            PORTUGUESE RED             J. Portugal Ramos   32027  \n",
       "1  BORDEAUX-STYLE RED BLEND  Château Tour Grand Colombier   71079  \n",
       "2  BORDEAUX-STYLE RED BLEND                Château Figeac   32440  \n",
       "3              PETITE SIRAH                       Jaffurs  124405  \n",
       "4                      ROSé                      Syncline   33649  "
      ]
     },
     "execution_count": 4,
     "metadata": {},
     "output_type": "execute_result"
    }
   ],
   "source": [
    "train.head()"
   ]
  },
  {
   "cell_type": "code",
   "execution_count": 5,
   "id": "2160460e",
   "metadata": {
    "execution": {
     "iopub.execute_input": "2022-03-16T10:04:32.918001Z",
     "iopub.status.busy": "2022-03-16T10:04:32.917232Z",
     "iopub.status.idle": "2022-03-16T10:04:32.932509Z",
     "shell.execute_reply": "2022-03-16T10:04:32.932983Z",
     "shell.execute_reply.started": "2022-03-16T09:22:18.120016Z"
    },
    "papermill": {
     "duration": 0.058046,
     "end_time": "2022-03-16T10:04:32.933156",
     "exception": false,
     "start_time": "2022-03-16T10:04:32.875110",
     "status": "completed"
    },
    "tags": []
   },
   "outputs": [
    {
     "data": {
      "text/html": [
       "<div>\n",
       "<style scoped>\n",
       "    .dataframe tbody tr th:only-of-type {\n",
       "        vertical-align: middle;\n",
       "    }\n",
       "\n",
       "    .dataframe tbody tr th {\n",
       "        vertical-align: top;\n",
       "    }\n",
       "\n",
       "    .dataframe thead th {\n",
       "        text-align: right;\n",
       "    }\n",
       "</style>\n",
       "<table border=\"1\" class=\"dataframe\">\n",
       "  <thead>\n",
       "    <tr style=\"text-align: right;\">\n",
       "      <th></th>\n",
       "      <th>index</th>\n",
       "      <th>country</th>\n",
       "      <th>description</th>\n",
       "      <th>designation</th>\n",
       "      <th>points</th>\n",
       "      <th>price</th>\n",
       "      <th>province</th>\n",
       "      <th>region_1</th>\n",
       "      <th>region_2</th>\n",
       "      <th>taster_name</th>\n",
       "      <th>taster_twitter_handle</th>\n",
       "      <th>title</th>\n",
       "      <th>variety</th>\n",
       "      <th>winery</th>\n",
       "      <th>id</th>\n",
       "    </tr>\n",
       "  </thead>\n",
       "  <tbody>\n",
       "    <tr>\n",
       "      <th>0</th>\n",
       "      <td>41855</td>\n",
       "      <td>US</td>\n",
       "      <td>Sweet new oak stands out, giving this Cabernet...</td>\n",
       "      <td>3D</td>\n",
       "      <td>95.036469</td>\n",
       "      <td>NaN</td>\n",
       "      <td>California</td>\n",
       "      <td>St. Helena</td>\n",
       "      <td>Napa</td>\n",
       "      <td>NaN</td>\n",
       "      <td>NaN</td>\n",
       "      <td>Salvestrin 2007 3D Cabernet Sauvignon (St. Hel...</td>\n",
       "      <td>CABERNET SAUVIGNON</td>\n",
       "      <td>Salvestrin</td>\n",
       "      <td>0</td>\n",
       "    </tr>\n",
       "    <tr>\n",
       "      <th>1</th>\n",
       "      <td>10328</td>\n",
       "      <td>France</td>\n",
       "      <td>Charming raspberry aromas intertwine with scen...</td>\n",
       "      <td>Heluicum</td>\n",
       "      <td>90.966405</td>\n",
       "      <td>NaN</td>\n",
       "      <td>Rhône Valley</td>\n",
       "      <td>Collines Rhôdaniennes</td>\n",
       "      <td>NaN</td>\n",
       "      <td>NaN</td>\n",
       "      <td>NaN</td>\n",
       "      <td>NaN</td>\n",
       "      <td>SYRAH</td>\n",
       "      <td>Les Vins de Vienne</td>\n",
       "      <td>1</td>\n",
       "    </tr>\n",
       "    <tr>\n",
       "      <th>2</th>\n",
       "      <td>60094</td>\n",
       "      <td>US</td>\n",
       "      <td>Ripe blackberry, leather and soy show on the n...</td>\n",
       "      <td>Estate</td>\n",
       "      <td>88.964358</td>\n",
       "      <td>NaN</td>\n",
       "      <td>California</td>\n",
       "      <td>Santa Ynez Valley</td>\n",
       "      <td>Central Coast</td>\n",
       "      <td>Matt Kettmann</td>\n",
       "      <td>@mattkettmann</td>\n",
       "      <td>Brave &amp; Maiden 2013 Estate Cabernet Franc (San...</td>\n",
       "      <td>CABERNET FRANC</td>\n",
       "      <td>Brave &amp; Maiden</td>\n",
       "      <td>2</td>\n",
       "    </tr>\n",
       "    <tr>\n",
       "      <th>3</th>\n",
       "      <td>48333</td>\n",
       "      <td>US</td>\n",
       "      <td>White flowers and wild anise give this a crisp...</td>\n",
       "      <td>NaN</td>\n",
       "      <td>89.960356</td>\n",
       "      <td>NaN</td>\n",
       "      <td>California</td>\n",
       "      <td>Sonoma Coast</td>\n",
       "      <td>Sonoma</td>\n",
       "      <td>Virginie Boone</td>\n",
       "      <td>@vboone</td>\n",
       "      <td>Les Voleurs 2013 Chardonnay (Sonoma Coast)</td>\n",
       "      <td>CHARDONNAY</td>\n",
       "      <td>Les Voleurs</td>\n",
       "      <td>3</td>\n",
       "    </tr>\n",
       "    <tr>\n",
       "      <th>4</th>\n",
       "      <td>14498</td>\n",
       "      <td>US</td>\n",
       "      <td>Pinot Gris has been making inroads in Washingt...</td>\n",
       "      <td>NaN</td>\n",
       "      <td>88.075501</td>\n",
       "      <td>NaN</td>\n",
       "      <td>Washington</td>\n",
       "      <td>Columbia Valley (WA)</td>\n",
       "      <td>Columbia Valley</td>\n",
       "      <td>Sean P. Sullivan</td>\n",
       "      <td>@wawinereport</td>\n",
       "      <td>Chateau Ste. Michelle 2015 Pinot Gris (Columbi...</td>\n",
       "      <td>PINOT GRIS</td>\n",
       "      <td>Chateau Ste. Michelle</td>\n",
       "      <td>4</td>\n",
       "    </tr>\n",
       "  </tbody>\n",
       "</table>\n",
       "</div>"
      ],
      "text/plain": [
       "   index country                                        description  \\\n",
       "0  41855      US  Sweet new oak stands out, giving this Cabernet...   \n",
       "1  10328  France  Charming raspberry aromas intertwine with scen...   \n",
       "2  60094      US  Ripe blackberry, leather and soy show on the n...   \n",
       "3  48333      US  White flowers and wild anise give this a crisp...   \n",
       "4  14498      US  Pinot Gris has been making inroads in Washingt...   \n",
       "\n",
       "  designation     points  price      province               region_1  \\\n",
       "0          3D  95.036469    NaN    California             St. Helena   \n",
       "1    Heluicum  90.966405    NaN  Rhône Valley  Collines Rhôdaniennes   \n",
       "2      Estate  88.964358    NaN    California      Santa Ynez Valley   \n",
       "3         NaN  89.960356    NaN    California           Sonoma Coast   \n",
       "4         NaN  88.075501    NaN    Washington   Columbia Valley (WA)   \n",
       "\n",
       "          region_2       taster_name taster_twitter_handle  \\\n",
       "0             Napa               NaN                   NaN   \n",
       "1              NaN               NaN                   NaN   \n",
       "2    Central Coast     Matt Kettmann         @mattkettmann   \n",
       "3           Sonoma    Virginie Boone               @vboone   \n",
       "4  Columbia Valley  Sean P. Sullivan         @wawinereport   \n",
       "\n",
       "                                               title             variety  \\\n",
       "0  Salvestrin 2007 3D Cabernet Sauvignon (St. Hel...  CABERNET SAUVIGNON   \n",
       "1                                                NaN               SYRAH   \n",
       "2  Brave & Maiden 2013 Estate Cabernet Franc (San...      CABERNET FRANC   \n",
       "3         Les Voleurs 2013 Chardonnay (Sonoma Coast)          CHARDONNAY   \n",
       "4  Chateau Ste. Michelle 2015 Pinot Gris (Columbi...          PINOT GRIS   \n",
       "\n",
       "                  winery  id  \n",
       "0             Salvestrin   0  \n",
       "1     Les Vins de Vienne   1  \n",
       "2         Brave & Maiden   2  \n",
       "3            Les Voleurs   3  \n",
       "4  Chateau Ste. Michelle   4  "
      ]
     },
     "execution_count": 5,
     "metadata": {},
     "output_type": "execute_result"
    }
   ],
   "source": [
    "test.head()"
   ]
  },
  {
   "cell_type": "code",
   "execution_count": 6,
   "id": "47d5995f",
   "metadata": {
    "execution": {
     "iopub.execute_input": "2022-03-16T10:04:33.025313Z",
     "iopub.status.busy": "2022-03-16T10:04:33.024557Z",
     "iopub.status.idle": "2022-03-16T10:04:33.052650Z",
     "shell.execute_reply": "2022-03-16T10:04:33.052172Z",
     "shell.execute_reply.started": "2022-03-16T09:22:20.126031Z"
    },
    "papermill": {
     "duration": 0.078664,
     "end_time": "2022-03-16T10:04:33.052781",
     "exception": false,
     "start_time": "2022-03-16T10:04:32.974117",
     "status": "completed"
    },
    "tags": []
   },
   "outputs": [],
   "source": [
    "import cupy as np\n",
    "from cuml import LinearRegression\n",
    "df=pd.DataFrame(data=train,columns=['index','country','description','designation','points','price','province','region_1','region_2','taster_name','taster_twitter_handle','title','variety','winery','id'])"
   ]
  },
  {
   "cell_type": "code",
   "execution_count": 7,
   "id": "bd1f8fc4",
   "metadata": {
    "execution": {
     "iopub.execute_input": "2022-03-16T10:04:33.164459Z",
     "iopub.status.busy": "2022-03-16T10:04:33.163536Z",
     "iopub.status.idle": "2022-03-16T10:04:33.167125Z",
     "shell.execute_reply": "2022-03-16T10:04:33.167553Z",
     "shell.execute_reply.started": "2022-03-16T09:22:22.047037Z"
    },
    "papermill": {
     "duration": 0.072733,
     "end_time": "2022-03-16T10:04:33.167701",
     "exception": false,
     "start_time": "2022-03-16T10:04:33.094968",
     "status": "completed"
    },
    "tags": []
   },
   "outputs": [
    {
     "data": {
      "text/html": [
       "<div>\n",
       "<style scoped>\n",
       "    .dataframe tbody tr th:only-of-type {\n",
       "        vertical-align: middle;\n",
       "    }\n",
       "\n",
       "    .dataframe tbody tr th {\n",
       "        vertical-align: top;\n",
       "    }\n",
       "\n",
       "    .dataframe thead th {\n",
       "        text-align: right;\n",
       "    }\n",
       "</style>\n",
       "<table border=\"1\" class=\"dataframe\">\n",
       "  <thead>\n",
       "    <tr style=\"text-align: right;\">\n",
       "      <th></th>\n",
       "      <th>index</th>\n",
       "      <th>country</th>\n",
       "      <th>description</th>\n",
       "      <th>designation</th>\n",
       "      <th>points</th>\n",
       "      <th>price</th>\n",
       "      <th>province</th>\n",
       "      <th>region_1</th>\n",
       "      <th>region_2</th>\n",
       "      <th>taster_name</th>\n",
       "      <th>taster_twitter_handle</th>\n",
       "      <th>title</th>\n",
       "      <th>variety</th>\n",
       "      <th>winery</th>\n",
       "      <th>id</th>\n",
       "    </tr>\n",
       "  </thead>\n",
       "  <tbody>\n",
       "    <tr>\n",
       "      <th>0</th>\n",
       "      <td>NaN</td>\n",
       "      <td>Portugal</td>\n",
       "      <td>This is a fine rich balanced wine. It has ripe...</td>\n",
       "      <td>Vila Santa Reserva</td>\n",
       "      <td>88.870874</td>\n",
       "      <td>20.0</td>\n",
       "      <td>Alentejano</td>\n",
       "      <td>NaN</td>\n",
       "      <td>NaN</td>\n",
       "      <td>NaN</td>\n",
       "      <td>NaN</td>\n",
       "      <td>NaN</td>\n",
       "      <td>PORTUGUESE RED</td>\n",
       "      <td>J. Portugal Ramos</td>\n",
       "      <td>32027</td>\n",
       "    </tr>\n",
       "    <tr>\n",
       "      <th>1</th>\n",
       "      <td>NaN</td>\n",
       "      <td>France</td>\n",
       "      <td>A solid, chunky wine, with a structure that is...</td>\n",
       "      <td>NaN</td>\n",
       "      <td>88.041695</td>\n",
       "      <td>28.0</td>\n",
       "      <td>Bordeaux</td>\n",
       "      <td>Lalande de Pomerol</td>\n",
       "      <td>NaN</td>\n",
       "      <td>NaN</td>\n",
       "      <td>NaN</td>\n",
       "      <td>NaN</td>\n",
       "      <td>BORDEAUX-STYLE RED BLEND</td>\n",
       "      <td>Château Tour Grand Colombier</td>\n",
       "      <td>71079</td>\n",
       "    </tr>\n",
       "    <tr>\n",
       "      <th>2</th>\n",
       "      <td>NaN</td>\n",
       "      <td>France</td>\n",
       "      <td>This is powerful and concentrated, with the hi...</td>\n",
       "      <td>NaN</td>\n",
       "      <td>94.085021</td>\n",
       "      <td>130.0</td>\n",
       "      <td>Bordeaux</td>\n",
       "      <td>Saint-Émilion</td>\n",
       "      <td>NaN</td>\n",
       "      <td>NaN</td>\n",
       "      <td>NaN</td>\n",
       "      <td>NaN</td>\n",
       "      <td>BORDEAUX-STYLE RED BLEND</td>\n",
       "      <td>Château Figeac</td>\n",
       "      <td>32440</td>\n",
       "    </tr>\n",
       "    <tr>\n",
       "      <th>3</th>\n",
       "      <td>NaN</td>\n",
       "      <td>US</td>\n",
       "      <td>Rich, ripe and oaky, this Petite Sirah charms ...</td>\n",
       "      <td>Thompson Vineyard</td>\n",
       "      <td>89.869797</td>\n",
       "      <td>34.0</td>\n",
       "      <td>California</td>\n",
       "      <td>Santa Barbara County</td>\n",
       "      <td>Central Coast</td>\n",
       "      <td>NaN</td>\n",
       "      <td>NaN</td>\n",
       "      <td>Jaffurs 2010 Thompson Vineyard Petite Sirah (S...</td>\n",
       "      <td>PETITE SIRAH</td>\n",
       "      <td>Jaffurs</td>\n",
       "      <td>124405</td>\n",
       "    </tr>\n",
       "    <tr>\n",
       "      <th>4</th>\n",
       "      <td>NaN</td>\n",
       "      <td>US</td>\n",
       "      <td>This wine is a unique in the state blend and f...</td>\n",
       "      <td>McKinley Springs Vineyard</td>\n",
       "      <td>89.017651</td>\n",
       "      <td>24.0</td>\n",
       "      <td>Washington</td>\n",
       "      <td>Horse Heaven Hills</td>\n",
       "      <td>Columbia Valley</td>\n",
       "      <td>Sean P. Sullivan</td>\n",
       "      <td>@wawinereport</td>\n",
       "      <td>Syncline 2016 McKinley Springs Vineyard Rosé (...</td>\n",
       "      <td>ROSé</td>\n",
       "      <td>Syncline</td>\n",
       "      <td>33649</td>\n",
       "    </tr>\n",
       "    <tr>\n",
       "      <th>...</th>\n",
       "      <td>...</td>\n",
       "      <td>...</td>\n",
       "      <td>...</td>\n",
       "      <td>...</td>\n",
       "      <td>...</td>\n",
       "      <td>...</td>\n",
       "      <td>...</td>\n",
       "      <td>...</td>\n",
       "      <td>...</td>\n",
       "      <td>...</td>\n",
       "      <td>...</td>\n",
       "      <td>...</td>\n",
       "      <td>...</td>\n",
       "      <td>...</td>\n",
       "      <td>...</td>\n",
       "    </tr>\n",
       "    <tr>\n",
       "      <th>174995</th>\n",
       "      <td>NaN</td>\n",
       "      <td>US</td>\n",
       "      <td>Named for the clone so beloved by winemakers, ...</td>\n",
       "      <td>Old Wente</td>\n",
       "      <td>93.965358</td>\n",
       "      <td>55.0</td>\n",
       "      <td>California</td>\n",
       "      <td>Russian River Valley</td>\n",
       "      <td>Sonoma</td>\n",
       "      <td>Virginie Boone</td>\n",
       "      <td>@vboone</td>\n",
       "      <td>Lynmar 2014 Old Wente Chardonnay (Russian Rive...</td>\n",
       "      <td>CHARDONNAY</td>\n",
       "      <td>Lynmar</td>\n",
       "      <td>51364</td>\n",
       "    </tr>\n",
       "    <tr>\n",
       "      <th>174996</th>\n",
       "      <td>NaN</td>\n",
       "      <td>Portugal</td>\n",
       "      <td>This is a fresh, fruity and juicy wine. Shot t...</td>\n",
       "      <td>Bojador Branco</td>\n",
       "      <td>85.975164</td>\n",
       "      <td>14.0</td>\n",
       "      <td>Alentejano</td>\n",
       "      <td>NaN</td>\n",
       "      <td>NaN</td>\n",
       "      <td>Roger Voss</td>\n",
       "      <td>@vossroger</td>\n",
       "      <td>Espaço Rural 2014 Bojador Branco White (Alente...</td>\n",
       "      <td>PORTUGUESE WHITE</td>\n",
       "      <td>Espaço Rural</td>\n",
       "      <td>87223</td>\n",
       "    </tr>\n",
       "    <tr>\n",
       "      <th>174997</th>\n",
       "      <td>NaN</td>\n",
       "      <td>Spain</td>\n",
       "      <td>Clean and toasty, with mineral and the slighte...</td>\n",
       "      <td>Cordon Negro Brut</td>\n",
       "      <td>85.030109</td>\n",
       "      <td>10.0</td>\n",
       "      <td>Catalonia</td>\n",
       "      <td>Cava</td>\n",
       "      <td>NaN</td>\n",
       "      <td>NaN</td>\n",
       "      <td>NaN</td>\n",
       "      <td>NaN</td>\n",
       "      <td>SPARKLING BLEND</td>\n",
       "      <td>Freixenet</td>\n",
       "      <td>142217</td>\n",
       "    </tr>\n",
       "    <tr>\n",
       "      <th>174998</th>\n",
       "      <td>NaN</td>\n",
       "      <td>US</td>\n",
       "      <td>A lovely Pinot Noir, showing flamboyantly ripe...</td>\n",
       "      <td>Estate Grown</td>\n",
       "      <td>90.867770</td>\n",
       "      <td>65.0</td>\n",
       "      <td>California</td>\n",
       "      <td>Russian River Valley</td>\n",
       "      <td>Sonoma</td>\n",
       "      <td>NaN</td>\n",
       "      <td>NaN</td>\n",
       "      <td>NaN</td>\n",
       "      <td>PINOT NOIR</td>\n",
       "      <td>Donum</td>\n",
       "      <td>64741</td>\n",
       "    </tr>\n",
       "    <tr>\n",
       "      <th>174999</th>\n",
       "      <td>NaN</td>\n",
       "      <td>US</td>\n",
       "      <td>Made to benefit the exploratory organization, ...</td>\n",
       "      <td>National Geographic Ocean Reserve Blanc de Blancs</td>\n",
       "      <td>91.881217</td>\n",
       "      <td>50.0</td>\n",
       "      <td>California</td>\n",
       "      <td>Green Valley</td>\n",
       "      <td>Sonoma</td>\n",
       "      <td>Virginie Boone</td>\n",
       "      <td>@vboone</td>\n",
       "      <td>Iron Horse 2013 National Geographic Ocean Rese...</td>\n",
       "      <td>SPARKLING BLEND</td>\n",
       "      <td>Iron Horse</td>\n",
       "      <td>91621</td>\n",
       "    </tr>\n",
       "  </tbody>\n",
       "</table>\n",
       "<p>175000 rows × 15 columns</p>\n",
       "</div>"
      ],
      "text/plain": [
       "        index   country                                        description  \\\n",
       "0         NaN  Portugal  This is a fine rich balanced wine. It has ripe...   \n",
       "1         NaN    France  A solid, chunky wine, with a structure that is...   \n",
       "2         NaN    France  This is powerful and concentrated, with the hi...   \n",
       "3         NaN        US  Rich, ripe and oaky, this Petite Sirah charms ...   \n",
       "4         NaN        US  This wine is a unique in the state blend and f...   \n",
       "...       ...       ...                                                ...   \n",
       "174995    NaN        US  Named for the clone so beloved by winemakers, ...   \n",
       "174996    NaN  Portugal  This is a fresh, fruity and juicy wine. Shot t...   \n",
       "174997    NaN     Spain  Clean and toasty, with mineral and the slighte...   \n",
       "174998    NaN        US  A lovely Pinot Noir, showing flamboyantly ripe...   \n",
       "174999    NaN        US  Made to benefit the exploratory organization, ...   \n",
       "\n",
       "                                              designation     points  price  \\\n",
       "0                                      Vila Santa Reserva  88.870874   20.0   \n",
       "1                                                     NaN  88.041695   28.0   \n",
       "2                                                     NaN  94.085021  130.0   \n",
       "3                                       Thompson Vineyard  89.869797   34.0   \n",
       "4                               McKinley Springs Vineyard  89.017651   24.0   \n",
       "...                                                   ...        ...    ...   \n",
       "174995                                          Old Wente  93.965358   55.0   \n",
       "174996                                     Bojador Branco  85.975164   14.0   \n",
       "174997                                  Cordon Negro Brut  85.030109   10.0   \n",
       "174998                                       Estate Grown  90.867770   65.0   \n",
       "174999  National Geographic Ocean Reserve Blanc de Blancs  91.881217   50.0   \n",
       "\n",
       "          province              region_1         region_2       taster_name  \\\n",
       "0       Alentejano                   NaN              NaN               NaN   \n",
       "1         Bordeaux    Lalande de Pomerol              NaN               NaN   \n",
       "2         Bordeaux         Saint-Émilion              NaN               NaN   \n",
       "3       California  Santa Barbara County    Central Coast               NaN   \n",
       "4       Washington    Horse Heaven Hills  Columbia Valley  Sean P. Sullivan   \n",
       "...            ...                   ...              ...               ...   \n",
       "174995  California  Russian River Valley           Sonoma    Virginie Boone   \n",
       "174996  Alentejano                   NaN              NaN        Roger Voss   \n",
       "174997   Catalonia                  Cava              NaN               NaN   \n",
       "174998  California  Russian River Valley           Sonoma               NaN   \n",
       "174999  California          Green Valley           Sonoma    Virginie Boone   \n",
       "\n",
       "       taster_twitter_handle  \\\n",
       "0                        NaN   \n",
       "1                        NaN   \n",
       "2                        NaN   \n",
       "3                        NaN   \n",
       "4              @wawinereport   \n",
       "...                      ...   \n",
       "174995               @vboone   \n",
       "174996            @vossroger   \n",
       "174997                   NaN   \n",
       "174998                   NaN   \n",
       "174999               @vboone   \n",
       "\n",
       "                                                    title  \\\n",
       "0                                                     NaN   \n",
       "1                                                     NaN   \n",
       "2                                                     NaN   \n",
       "3       Jaffurs 2010 Thompson Vineyard Petite Sirah (S...   \n",
       "4       Syncline 2016 McKinley Springs Vineyard Rosé (...   \n",
       "...                                                   ...   \n",
       "174995  Lynmar 2014 Old Wente Chardonnay (Russian Rive...   \n",
       "174996  Espaço Rural 2014 Bojador Branco White (Alente...   \n",
       "174997                                                NaN   \n",
       "174998                                                NaN   \n",
       "174999  Iron Horse 2013 National Geographic Ocean Rese...   \n",
       "\n",
       "                         variety                        winery      id  \n",
       "0                 PORTUGUESE RED             J. Portugal Ramos   32027  \n",
       "1       BORDEAUX-STYLE RED BLEND  Château Tour Grand Colombier   71079  \n",
       "2       BORDEAUX-STYLE RED BLEND                Château Figeac   32440  \n",
       "3                   PETITE SIRAH                       Jaffurs  124405  \n",
       "4                           ROSé                      Syncline   33649  \n",
       "...                          ...                           ...     ...  \n",
       "174995                CHARDONNAY                        Lynmar   51364  \n",
       "174996          PORTUGUESE WHITE                  Espaço Rural   87223  \n",
       "174997           SPARKLING BLEND                     Freixenet  142217  \n",
       "174998                PINOT NOIR                         Donum   64741  \n",
       "174999           SPARKLING BLEND                    Iron Horse   91621  \n",
       "\n",
       "[175000 rows x 15 columns]"
      ]
     },
     "execution_count": 7,
     "metadata": {},
     "output_type": "execute_result"
    }
   ],
   "source": [
    "#train data set is converted to the data-frame\n",
    "df"
   ]
  },
  {
   "cell_type": "markdown",
   "id": "c75fb750",
   "metadata": {
    "papermill": {
     "duration": 0.044411,
     "end_time": "2022-03-16T10:04:33.255335",
     "exception": false,
     "start_time": "2022-03-16T10:04:33.210924",
     "status": "completed"
    },
    "tags": []
   },
   "source": [
    "**Here we have to apply the LabelEncoder For which i am using the sklearn Library**"
   ]
  },
  {
   "cell_type": "code",
   "execution_count": 8,
   "id": "973346a0",
   "metadata": {
    "execution": {
     "iopub.execute_input": "2022-03-16T10:04:33.370837Z",
     "iopub.status.busy": "2022-03-16T10:04:33.360535Z",
     "iopub.status.idle": "2022-03-16T10:04:35.009184Z",
     "shell.execute_reply": "2022-03-16T10:04:35.008725Z",
     "shell.execute_reply.started": "2022-03-16T09:22:25.510100Z"
    },
    "papermill": {
     "duration": 1.710317,
     "end_time": "2022-03-16T10:04:35.009316",
     "exception": false,
     "start_time": "2022-03-16T10:04:33.298999",
     "status": "completed"
    },
    "tags": []
   },
   "outputs": [
    {
     "data": {
      "text/html": [
       "<div>\n",
       "<style scoped>\n",
       "    .dataframe tbody tr th:only-of-type {\n",
       "        vertical-align: middle;\n",
       "    }\n",
       "\n",
       "    .dataframe tbody tr th {\n",
       "        vertical-align: top;\n",
       "    }\n",
       "\n",
       "    .dataframe thead th {\n",
       "        text-align: right;\n",
       "    }\n",
       "</style>\n",
       "<table border=\"1\" class=\"dataframe\">\n",
       "  <thead>\n",
       "    <tr style=\"text-align: right;\">\n",
       "      <th></th>\n",
       "      <th>country</th>\n",
       "      <th>description</th>\n",
       "      <th>designation</th>\n",
       "      <th>points</th>\n",
       "      <th>price</th>\n",
       "      <th>province</th>\n",
       "      <th>region_1</th>\n",
       "      <th>region_2</th>\n",
       "      <th>taster_name</th>\n",
       "      <th>taster_twitter_handle</th>\n",
       "      <th>title</th>\n",
       "      <th>variety</th>\n",
       "      <th>winery</th>\n",
       "      <th>id</th>\n",
       "    </tr>\n",
       "  </thead>\n",
       "  <tbody>\n",
       "    <tr>\n",
       "      <th>0</th>\n",
       "      <td>32</td>\n",
       "      <td>98899</td>\n",
       "      <td>35911</td>\n",
       "      <td>101546</td>\n",
       "      <td>16</td>\n",
       "      <td>8</td>\n",
       "      <td>1278</td>\n",
       "      <td>18</td>\n",
       "      <td>19</td>\n",
       "      <td>15</td>\n",
       "      <td>77411</td>\n",
       "      <td>457</td>\n",
       "      <td>8782</td>\n",
       "      <td>27483</td>\n",
       "    </tr>\n",
       "    <tr>\n",
       "      <th>1</th>\n",
       "      <td>14</td>\n",
       "      <td>10809</td>\n",
       "      <td>37931</td>\n",
       "      <td>92661</td>\n",
       "      <td>24</td>\n",
       "      <td>38</td>\n",
       "      <td>572</td>\n",
       "      <td>18</td>\n",
       "      <td>19</td>\n",
       "      <td>15</td>\n",
       "      <td>77411</td>\n",
       "      <td>59</td>\n",
       "      <td>4019</td>\n",
       "      <td>61033</td>\n",
       "    </tr>\n",
       "    <tr>\n",
       "      <th>2</th>\n",
       "      <td>14</td>\n",
       "      <td>104319</td>\n",
       "      <td>37931</td>\n",
       "      <td>170939</td>\n",
       "      <td>126</td>\n",
       "      <td>38</td>\n",
       "      <td>966</td>\n",
       "      <td>18</td>\n",
       "      <td>19</td>\n",
       "      <td>15</td>\n",
       "      <td>77411</td>\n",
       "      <td>59</td>\n",
       "      <td>3322</td>\n",
       "      <td>27839</td>\n",
       "    </tr>\n",
       "    <tr>\n",
       "      <th>3</th>\n",
       "      <td>42</td>\n",
       "      <td>68273</td>\n",
       "      <td>33838</td>\n",
       "      <td>117438</td>\n",
       "      <td>30</td>\n",
       "      <td>53</td>\n",
       "      <td>997</td>\n",
       "      <td>1</td>\n",
       "      <td>19</td>\n",
       "      <td>15</td>\n",
       "      <td>37566</td>\n",
       "      <td>423</td>\n",
       "      <td>8842</td>\n",
       "      <td>106750</td>\n",
       "    </tr>\n",
       "    <tr>\n",
       "      <th>4</th>\n",
       "      <td>42</td>\n",
       "      <td>112607</td>\n",
       "      <td>21691</td>\n",
       "      <td>108828</td>\n",
       "      <td>20</td>\n",
       "      <td>454</td>\n",
       "      <td>527</td>\n",
       "      <td>3</td>\n",
       "      <td>16</td>\n",
       "      <td>11</td>\n",
       "      <td>66873</td>\n",
       "      <td>497</td>\n",
       "      <td>14717</td>\n",
       "      <td>28885</td>\n",
       "    </tr>\n",
       "  </tbody>\n",
       "</table>\n",
       "</div>"
      ],
      "text/plain": [
       "   country  description  designation  points  price  province  region_1  \\\n",
       "0       32        98899        35911  101546     16         8      1278   \n",
       "1       14        10809        37931   92661     24        38       572   \n",
       "2       14       104319        37931  170939    126        38       966   \n",
       "3       42        68273        33838  117438     30        53       997   \n",
       "4       42       112607        21691  108828     20       454       527   \n",
       "\n",
       "   region_2  taster_name  taster_twitter_handle  title  variety  winery  \\\n",
       "0        18           19                     15  77411      457    8782   \n",
       "1        18           19                     15  77411       59    4019   \n",
       "2        18           19                     15  77411       59    3322   \n",
       "3         1           19                     15  37566      423    8842   \n",
       "4         3           16                     11  66873      497   14717   \n",
       "\n",
       "       id  \n",
       "0   27483  \n",
       "1   61033  \n",
       "2   27839  \n",
       "3  106750  \n",
       "4   28885  "
      ]
     },
     "execution_count": 8,
     "metadata": {},
     "output_type": "execute_result"
    }
   ],
   "source": [
    "from sklearn.preprocessing import LabelEncoder\n",
    "for col in train.columns:\n",
    "    enc=LabelEncoder()\n",
    "    train[col]=enc.fit_transform(train[col])\n",
    "train.head()"
   ]
  },
  {
   "cell_type": "code",
   "execution_count": 9,
   "id": "35b2372a",
   "metadata": {
    "execution": {
     "iopub.execute_input": "2022-03-16T10:04:35.099310Z",
     "iopub.status.busy": "2022-03-16T10:04:35.098205Z",
     "iopub.status.idle": "2022-03-16T10:04:38.840142Z",
     "shell.execute_reply": "2022-03-16T10:04:38.839079Z",
     "shell.execute_reply.started": "2022-03-16T09:22:28.902519Z"
    },
    "papermill": {
     "duration": 3.788365,
     "end_time": "2022-03-16T10:04:38.840317",
     "exception": false,
     "start_time": "2022-03-16T10:04:35.051952",
     "status": "completed"
    },
    "tags": []
   },
   "outputs": [],
   "source": [
    "#just dividing the dataset into the x and the target column that is price\n",
    "x=train.drop(columns=[\"price\"])\n",
    "y=train['price']\n",
    "y=np.array(y)\n",
    "y=y.reshape(-1,1)"
   ]
  },
  {
   "cell_type": "code",
   "execution_count": 10,
   "id": "c1b68887",
   "metadata": {
    "execution": {
     "iopub.execute_input": "2022-03-16T10:04:38.937527Z",
     "iopub.status.busy": "2022-03-16T10:04:38.935879Z",
     "iopub.status.idle": "2022-03-16T10:04:38.939692Z",
     "shell.execute_reply": "2022-03-16T10:04:38.939250Z",
     "shell.execute_reply.started": "2022-03-16T09:22:32.895683Z"
    },
    "papermill": {
     "duration": 0.054044,
     "end_time": "2022-03-16T10:04:38.939810",
     "exception": false,
     "start_time": "2022-03-16T10:04:38.885766",
     "status": "completed"
    },
    "tags": []
   },
   "outputs": [
    {
     "data": {
      "text/plain": [
       "Index(['country', 'description', 'designation', 'points', 'province',\n",
       "       'region_1', 'region_2', 'taster_name', 'taster_twitter_handle', 'title',\n",
       "       'variety', 'winery', 'id'],\n",
       "      dtype='object')"
      ]
     },
     "execution_count": 10,
     "metadata": {},
     "output_type": "execute_result"
    }
   ],
   "source": [
    "#displaying the columns of our splitted x data-frame\n",
    "x.columns\n"
   ]
  },
  {
   "cell_type": "code",
   "execution_count": 11,
   "id": "00fe7365",
   "metadata": {
    "execution": {
     "iopub.execute_input": "2022-03-16T10:04:39.031787Z",
     "iopub.status.busy": "2022-03-16T10:04:39.030927Z",
     "iopub.status.idle": "2022-03-16T10:04:39.646983Z",
     "shell.execute_reply": "2022-03-16T10:04:39.646519Z",
     "shell.execute_reply.started": "2022-03-16T09:22:34.675058Z"
    },
    "papermill": {
     "duration": 0.663831,
     "end_time": "2022-03-16T10:04:39.647153",
     "exception": false,
     "start_time": "2022-03-16T10:04:38.983322",
     "status": "completed"
    },
    "tags": []
   },
   "outputs": [],
   "source": [
    "#now apply the splitting here to ensure that whole of your dataset gets divided into x_train,y_train,x_test,y_test\n",
    "from sklearn.model_selection import train_test_split\n",
    "X_train,X_test,Y_train,Y_test = train_test_split(x,y,train_size=0.2,random_state=42)"
   ]
  },
  {
   "cell_type": "markdown",
   "id": "ca0263d8",
   "metadata": {
    "papermill": {
     "duration": 0.042206,
     "end_time": "2022-03-16T10:04:39.731653",
     "exception": false,
     "start_time": "2022-03-16T10:04:39.689447",
     "status": "completed"
    },
    "tags": []
   },
   "source": [
    "# 1. **Let's use some Machine Learning Models**"
   ]
  },
  {
   "cell_type": "markdown",
   "id": "b0cf3975",
   "metadata": {
    "papermill": {
     "duration": 0.042637,
     "end_time": "2022-03-16T10:04:39.817760",
     "exception": false,
     "start_time": "2022-03-16T10:04:39.775123",
     "status": "completed"
    },
    "tags": []
   },
   "source": [
    "* **Apply Logistic Regression**"
   ]
  },
  {
   "cell_type": "code",
   "execution_count": 12,
   "id": "15dc63e0",
   "metadata": {
    "execution": {
     "iopub.execute_input": "2022-03-16T10:04:39.909412Z",
     "iopub.status.busy": "2022-03-16T10:04:39.908550Z",
     "iopub.status.idle": "2022-03-16T10:05:37.770679Z",
     "shell.execute_reply": "2022-03-16T10:05:37.771094Z",
     "shell.execute_reply.started": "2022-03-16T09:22:38.268592Z"
    },
    "papermill": {
     "duration": 57.909823,
     "end_time": "2022-03-16T10:05:37.771245",
     "exception": false,
     "start_time": "2022-03-16T10:04:39.861422",
     "status": "completed"
    },
    "tags": []
   },
   "outputs": [
    {
     "name": "stdout",
     "output_type": "stream",
     "text": [
      "[W] [10:04:45.678693] L-BFGS: max iterations reached\n",
      "[W] [10:04:45.679039] Maximum iterations reached before solver is converged. To increase model accuracy you can increase the number of iterations (max_iter) or improve the scaling of the input data.\n",
      "[W] [10:04:45.688388] L-BFGS line search failed (code 4); stopping at the last valid step\n",
      "[W] [10:04:45.697407] L-BFGS line search failed (code 4); stopping at the last valid step\n",
      "[W] [10:04:45.705723] L-BFGS line search failed (code 4); stopping at the last valid step\n",
      "[W] [10:04:45.713227] L-BFGS line search failed (code 4); stopping at the last valid step\n",
      "[W] [10:04:45.720870] L-BFGS line search failed (code 4); stopping at the last valid step\n",
      "[W] [10:04:45.728973] L-BFGS line search failed (code 4); stopping at the last valid step\n",
      "[W] [10:04:45.736830] L-BFGS line search failed (code 4); stopping at the last valid step\n",
      "[W] [10:04:45.744913] L-BFGS line search failed (code 4); stopping at the last valid step\n",
      "[W] [10:04:45.752786] L-BFGS line search failed (code 4); stopping at the last valid step\n",
      "[W] [10:04:45.761023] L-BFGS line search failed (code 4); stopping at the last valid step\n",
      "[W] [10:04:45.769715] L-BFGS line search failed (code 4); stopping at the last valid step\n",
      "[W] [10:04:45.777858] L-BFGS line search failed (code 4); stopping at the last valid step\n",
      "[W] [10:04:45.786275] L-BFGS line search failed (code 4); stopping at the last valid step\n",
      "[W] [10:04:45.794700] L-BFGS line search failed (code 4); stopping at the last valid step\n",
      "[W] [10:04:45.803193] L-BFGS line search failed (code 4); stopping at the last valid step\n",
      "[W] [10:04:45.811095] L-BFGS line search failed (code 4); stopping at the last valid step\n",
      "[W] [10:04:45.818455] L-BFGS line search failed (code 4); stopping at the last valid step\n",
      "[W] [10:04:45.826288] L-BFGS line search failed (code 4); stopping at the last valid step\n",
      "[W] [10:04:45.834049] L-BFGS line search failed (code 4); stopping at the last valid step\n",
      "[W] [10:04:45.841631] L-BFGS line search failed (code 4); stopping at the last valid step\n",
      "[W] [10:04:45.849722] L-BFGS line search failed (code 4); stopping at the last valid step\n",
      "[W] [10:04:45.857766] L-BFGS line search failed (code 4); stopping at the last valid step\n",
      "[W] [10:04:45.865588] L-BFGS line search failed (code 4); stopping at the last valid step\n",
      "[W] [10:04:45.873723] L-BFGS line search failed (code 4); stopping at the last valid step\n",
      "[W] [10:04:45.881762] L-BFGS line search failed (code 4); stopping at the last valid step\n",
      "[W] [10:04:45.891836] L-BFGS line search failed (code 4); stopping at the last valid step\n",
      "[W] [10:04:45.899277] L-BFGS line search failed (code 4); stopping at the last valid step\n",
      "[W] [10:04:45.906882] L-BFGS line search failed (code 4); stopping at the last valid step\n",
      "[W] [10:04:45.914410] L-BFGS line search failed (code 4); stopping at the last valid step\n",
      "[W] [10:04:45.921915] L-BFGS line search failed (code 4); stopping at the last valid step\n",
      "[W] [10:04:45.930302] L-BFGS line search failed (code 4); stopping at the last valid step\n",
      "[W] [10:04:45.938411] L-BFGS line search failed (code 4); stopping at the last valid step\n",
      "[W] [10:04:45.946253] L-BFGS line search failed (code 4); stopping at the last valid step\n",
      "[W] [10:04:45.954408] L-BFGS line search failed (code 4); stopping at the last valid step\n",
      "[W] [10:04:45.962452] L-BFGS line search failed (code 4); stopping at the last valid step\n",
      "[W] [10:04:45.970009] L-BFGS line search failed (code 4); stopping at the last valid step\n",
      "[W] [10:04:45.977045] L-BFGS line search failed (code 4); stopping at the last valid step\n",
      "[W] [10:04:45.984983] L-BFGS line search failed (code 4); stopping at the last valid step\n",
      "[W] [10:04:45.992997] L-BFGS line search failed (code 4); stopping at the last valid step\n",
      "[W] [10:04:46.000016] L-BFGS line search failed (code 4); stopping at the last valid step\n",
      "[W] [10:04:46.007808] L-BFGS line search failed (code 4); stopping at the last valid step\n",
      "[W] [10:04:46.015161] L-BFGS line search failed (code 4); stopping at the last valid step\n",
      "[W] [10:04:46.022314] L-BFGS line search failed (code 4); stopping at the last valid step\n",
      "[W] [10:04:46.030265] L-BFGS line search failed (code 4); stopping at the last valid step\n",
      "[W] [10:04:46.038209] L-BFGS line search failed (code 4); stopping at the last valid step\n",
      "[W] [10:04:46.046508] L-BFGS line search failed (code 4); stopping at the last valid step\n",
      "[W] [10:04:46.054240] L-BFGS line search failed (code 4); stopping at the last valid step\n",
      "[W] [10:04:46.061630] L-BFGS line search failed (code 4); stopping at the last valid step\n",
      "[W] [10:04:46.069187] L-BFGS line search failed (code 4); stopping at the last valid step\n",
      "[W] [10:04:46.076692] L-BFGS line search failed (code 4); stopping at the last valid step\n",
      "[W] [10:04:46.084931] L-BFGS line search failed (code 4); stopping at the last valid step\n",
      "[W] [10:04:46.092823] L-BFGS line search failed (code 4); stopping at the last valid step\n",
      "[W] [10:04:46.104005] L-BFGS line search failed (code 4); stopping at the last valid step\n",
      "[W] [10:04:46.112732] L-BFGS line search failed (code 4); stopping at the last valid step\n",
      "[W] [10:04:46.120880] L-BFGS line search failed (code 4); stopping at the last valid step\n",
      "[W] [10:04:46.129887] L-BFGS line search failed (code 4); stopping at the last valid step\n",
      "[W] [10:04:46.138122] L-BFGS line search failed (code 4); stopping at the last valid step\n",
      "[W] [10:04:46.146787] L-BFGS line search failed (code 4); stopping at the last valid step\n",
      "[W] [10:04:46.155381] L-BFGS line search failed (code 4); stopping at the last valid step\n",
      "[W] [10:04:46.163677] L-BFGS line search failed (code 4); stopping at the last valid step\n",
      "[W] [10:04:46.172204] L-BFGS line search failed (code 4); stopping at the last valid step\n",
      "[W] [10:04:46.180797] L-BFGS line search failed (code 4); stopping at the last valid step\n",
      "[W] [10:04:46.189537] L-BFGS line search failed (code 4); stopping at the last valid step\n",
      "[W] [10:04:46.197807] L-BFGS line search failed (code 4); stopping at the last valid step\n",
      "[W] [10:04:46.206513] L-BFGS line search failed (code 4); stopping at the last valid step\n",
      "[W] [10:04:46.214934] L-BFGS line search failed (code 4); stopping at the last valid step\n",
      "[W] [10:04:46.436100] L-BFGS: max iterations reached\n",
      "[W] [10:04:46.436812] Maximum iterations reached before solver is converged. To increase model accuracy you can increase the number of iterations (max_iter) or improve the scaling of the input data.\n",
      "[W] [10:04:46.447272] L-BFGS line search failed (code 4); stopping at the last valid step\n",
      "[W] [10:04:46.454753] L-BFGS line search failed (code 4); stopping at the last valid step\n",
      "[W] [10:04:46.461912] L-BFGS line search failed (code 4); stopping at the last valid step\n",
      "[W] [10:04:46.470561] L-BFGS line search failed (code 4); stopping at the last valid step\n",
      "[W] [10:04:46.478296] L-BFGS line search failed (code 4); stopping at the last valid step\n",
      "[W] [10:04:46.485978] L-BFGS line search failed (code 4); stopping at the last valid step\n",
      "[W] [10:04:46.494350] L-BFGS line search failed (code 4); stopping at the last valid step\n",
      "[W] [10:04:46.502377] L-BFGS line search failed (code 4); stopping at the last valid step\n",
      "[W] [10:04:46.510187] L-BFGS line search failed (code 4); stopping at the last valid step\n",
      "[W] [10:04:46.736238] L-BFGS: max iterations reached\n",
      "[W] [10:04:46.739542] Maximum iterations reached before solver is converged. To increase model accuracy you can increase the number of iterations (max_iter) or improve the scaling of the input data.\n",
      "[W] [10:04:46.749340] L-BFGS line search failed (code 4); stopping at the last valid step\n",
      "[W] [10:04:46.976148] L-BFGS: max iterations reached\n",
      "[W] [10:04:46.976888] Maximum iterations reached before solver is converged. To increase model accuracy you can increase the number of iterations (max_iter) or improve the scaling of the input data.\n",
      "[W] [10:04:46.987466] L-BFGS line search failed (code 4); stopping at the last valid step\n",
      "[W] [10:04:46.996335] L-BFGS line search failed (code 4); stopping at the last valid step\n",
      "[W] [10:04:47.004718] L-BFGS line search failed (code 4); stopping at the last valid step\n",
      "[W] [10:04:47.230014] L-BFGS: max iterations reached\n",
      "[W] [10:04:47.230798] Maximum iterations reached before solver is converged. To increase model accuracy you can increase the number of iterations (max_iter) or improve the scaling of the input data.\n",
      "[W] [10:04:47.242489] L-BFGS line search failed (code 4); stopping at the last valid step\n",
      "[W] [10:04:47.251148] L-BFGS line search failed (code 4); stopping at the last valid step\n",
      "[W] [10:04:47.259624] L-BFGS line search failed (code 4); stopping at the last valid step\n",
      "[W] [10:04:47.582052] L-BFGS: max iterations reached\n",
      "[W] [10:04:47.582822] Maximum iterations reached before solver is converged. To increase model accuracy you can increase the number of iterations (max_iter) or improve the scaling of the input data.\n",
      "[W] [10:04:47.593991] L-BFGS line search failed (code 4); stopping at the last valid step\n",
      "[W] [10:04:47.602287] L-BFGS line search failed (code 4); stopping at the last valid step\n",
      "[W] [10:04:47.610196] L-BFGS line search failed (code 4); stopping at the last valid step\n",
      "[W] [10:04:47.770731] L-BFGS line search failed (code 4); stopping at the last valid step\n",
      "[W] [10:04:47.778884] L-BFGS line search failed (code 4); stopping at the last valid step\n",
      "[W] [10:04:48.004534] L-BFGS: max iterations reached\n",
      "[W] [10:04:48.005267] Maximum iterations reached before solver is converged. To increase model accuracy you can increase the number of iterations (max_iter) or improve the scaling of the input data.\n",
      "[W] [10:04:48.016094] L-BFGS line search failed (code 4); stopping at the last valid step\n",
      "[W] [10:04:48.024323] L-BFGS line search failed (code 4); stopping at the last valid step\n",
      "[W] [10:04:48.032258] L-BFGS line search failed (code 4); stopping at the last valid step\n",
      "[W] [10:04:48.336436] L-BFGS: max iterations reached\n",
      "[W] [10:04:48.337158] Maximum iterations reached before solver is converged. To increase model accuracy you can increase the number of iterations (max_iter) or improve the scaling of the input data.\n",
      "[W] [10:04:48.561490] L-BFGS: max iterations reached\n",
      "[W] [10:04:48.562287] Maximum iterations reached before solver is converged. To increase model accuracy you can increase the number of iterations (max_iter) or improve the scaling of the input data.\n",
      "[W] [10:04:48.826905] L-BFGS: max iterations reached\n",
      "[W] [10:04:48.831550] Maximum iterations reached before solver is converged. To increase model accuracy you can increase the number of iterations (max_iter) or improve the scaling of the input data.\n",
      "[W] [10:04:49.133610] L-BFGS: max iterations reached\n",
      "[W] [10:04:49.137278] Maximum iterations reached before solver is converged. To increase model accuracy you can increase the number of iterations (max_iter) or improve the scaling of the input data.\n",
      "[W] [10:04:49.148596] L-BFGS line search failed (code 4); stopping at the last valid step\n",
      "[W] [10:04:49.414917] L-BFGS: max iterations reached\n",
      "[W] [10:04:49.415687] Maximum iterations reached before solver is converged. To increase model accuracy you can increase the number of iterations (max_iter) or improve the scaling of the input data.\n",
      "[W] [10:04:49.644544] L-BFGS: max iterations reached\n",
      "[W] [10:04:49.645290] Maximum iterations reached before solver is converged. To increase model accuracy you can increase the number of iterations (max_iter) or improve the scaling of the input data.\n",
      "[W] [10:04:49.655933] L-BFGS line search failed (code 4); stopping at the last valid step\n",
      "[W] [10:04:49.885309] L-BFGS: max iterations reached\n",
      "[W] [10:04:49.887182] Maximum iterations reached before solver is converged. To increase model accuracy you can increase the number of iterations (max_iter) or improve the scaling of the input data.\n",
      "[W] [10:04:49.898274] L-BFGS line search failed (code 4); stopping at the last valid step\n",
      "[W] [10:04:50.235413] L-BFGS: max iterations reached\n",
      "[W] [10:04:50.236163] Maximum iterations reached before solver is converged. To increase model accuracy you can increase the number of iterations (max_iter) or improve the scaling of the input data.\n",
      "[W] [10:04:50.464860] L-BFGS: max iterations reached\n",
      "[W] [10:04:50.465592] Maximum iterations reached before solver is converged. To increase model accuracy you can increase the number of iterations (max_iter) or improve the scaling of the input data.\n",
      "[W] [10:04:50.690875] L-BFGS: max iterations reached\n",
      "[W] [10:04:50.691608] Maximum iterations reached before solver is converged. To increase model accuracy you can increase the number of iterations (max_iter) or improve the scaling of the input data.\n",
      "[W] [10:04:51.015078] L-BFGS: max iterations reached\n",
      "[W] [10:04:51.015771] Maximum iterations reached before solver is converged. To increase model accuracy you can increase the number of iterations (max_iter) or improve the scaling of the input data.\n",
      "[W] [10:04:51.026940] L-BFGS line search failed (code 4); stopping at the last valid step\n",
      "[W] [10:04:51.488714] L-BFGS: max iterations reached\n",
      "[W] [10:04:51.489427] Maximum iterations reached before solver is converged. To increase model accuracy you can increase the number of iterations (max_iter) or improve the scaling of the input data.\n",
      "[W] [10:04:51.715718] L-BFGS: max iterations reached\n",
      "[W] [10:04:51.716448] Maximum iterations reached before solver is converged. To increase model accuracy you can increase the number of iterations (max_iter) or improve the scaling of the input data.\n",
      "[W] [10:04:51.726741] L-BFGS line search failed (code 4); stopping at the last valid step\n",
      "[W] [10:04:51.941983] L-BFGS stopped, because the line search failed to advance (step delta = 0.000000)\n",
      "[W] [10:04:51.953631] L-BFGS line search failed (code 4); stopping at the last valid step\n",
      "[W] [10:04:52.177630] L-BFGS: max iterations reached\n",
      "[W] [10:04:52.178222] Maximum iterations reached before solver is converged. To increase model accuracy you can increase the number of iterations (max_iter) or improve the scaling of the input data.\n",
      "[W] [10:04:52.486176] L-BFGS: max iterations reached\n",
      "[W] [10:04:52.486912] Maximum iterations reached before solver is converged. To increase model accuracy you can increase the number of iterations (max_iter) or improve the scaling of the input data.\n",
      "[W] [10:04:52.944721] L-BFGS: max iterations reached\n",
      "[W] [10:04:52.945329] Maximum iterations reached before solver is converged. To increase model accuracy you can increase the number of iterations (max_iter) or improve the scaling of the input data.\n",
      "[W] [10:04:52.956891] L-BFGS line search failed (code 4); stopping at the last valid step\n",
      "[W] [10:04:53.373394] L-BFGS: max iterations reached\n",
      "[W] [10:04:53.374116] Maximum iterations reached before solver is converged. To increase model accuracy you can increase the number of iterations (max_iter) or improve the scaling of the input data.\n",
      "[W] [10:04:53.598419] L-BFGS: max iterations reached\n",
      "[W] [10:04:53.599194] Maximum iterations reached before solver is converged. To increase model accuracy you can increase the number of iterations (max_iter) or improve the scaling of the input data.\n",
      "[W] [10:04:53.976952] L-BFGS: max iterations reached\n",
      "[W] [10:04:53.977668] Maximum iterations reached before solver is converged. To increase model accuracy you can increase the number of iterations (max_iter) or improve the scaling of the input data.\n",
      "[W] [10:04:53.987831] L-BFGS line search failed (code 4); stopping at the last valid step\n",
      "[W] [10:04:54.340758] L-BFGS: max iterations reached\n",
      "[W] [10:04:54.341502] Maximum iterations reached before solver is converged. To increase model accuracy you can increase the number of iterations (max_iter) or improve the scaling of the input data.\n",
      "[W] [10:04:54.683565] L-BFGS: max iterations reached\n",
      "[W] [10:04:54.684367] Maximum iterations reached before solver is converged. To increase model accuracy you can increase the number of iterations (max_iter) or improve the scaling of the input data.\n",
      "[W] [10:04:54.991884] L-BFGS: max iterations reached\n",
      "[W] [10:04:54.992684] Maximum iterations reached before solver is converged. To increase model accuracy you can increase the number of iterations (max_iter) or improve the scaling of the input data.\n",
      "[W] [10:04:55.003521] L-BFGS line search failed (code 4); stopping at the last valid step\n",
      "[W] [10:04:55.685485] L-BFGS: max iterations reached\n",
      "[W] [10:04:55.685724] Maximum iterations reached before solver is converged. To increase model accuracy you can increase the number of iterations (max_iter) or improve the scaling of the input data.\n",
      "[W] [10:04:55.910843] L-BFGS: max iterations reached\n",
      "[W] [10:04:55.911565] Maximum iterations reached before solver is converged. To increase model accuracy you can increase the number of iterations (max_iter) or improve the scaling of the input data.\n",
      "[W] [10:04:56.200254] L-BFGS: max iterations reached\n",
      "[W] [10:04:56.201088] Maximum iterations reached before solver is converged. To increase model accuracy you can increase the number of iterations (max_iter) or improve the scaling of the input data.\n",
      "[W] [10:04:56.211790] L-BFGS line search failed (code 4); stopping at the last valid step\n",
      "[W] [10:04:56.490368] L-BFGS: max iterations reached\n",
      "[W] [10:04:56.491114] Maximum iterations reached before solver is converged. To increase model accuracy you can increase the number of iterations (max_iter) or improve the scaling of the input data.\n",
      "[W] [10:04:56.760771] L-BFGS stopped, because the line search failed to advance (step delta = 0.000000)\n",
      "[W] [10:04:57.207893] L-BFGS stopped, because the line search failed to advance (step delta = 0.000000)\n",
      "[W] [10:04:57.219724] L-BFGS line search failed (code 4); stopping at the last valid step\n",
      "[W] [10:04:57.510957] L-BFGS: max iterations reached\n",
      "[W] [10:04:57.511707] Maximum iterations reached before solver is converged. To increase model accuracy you can increase the number of iterations (max_iter) or improve the scaling of the input data.\n",
      "[W] [10:04:57.745955] L-BFGS stopped, because the line search failed to advance (step delta = 0.000000)\n",
      "[W] [10:04:58.184142] L-BFGS: max iterations reached\n",
      "[W] [10:04:58.184896] Maximum iterations reached before solver is converged. To increase model accuracy you can increase the number of iterations (max_iter) or improve the scaling of the input data.\n",
      "[W] [10:04:58.410357] L-BFGS: max iterations reached\n",
      "[W] [10:04:58.411069] Maximum iterations reached before solver is converged. To increase model accuracy you can increase the number of iterations (max_iter) or improve the scaling of the input data.\n",
      "[W] [10:04:58.421524] L-BFGS line search failed (code 4); stopping at the last valid step\n",
      "[W] [10:04:58.642421] L-BFGS: max iterations reached\n",
      "[W] [10:04:58.643191] Maximum iterations reached before solver is converged. To increase model accuracy you can increase the number of iterations (max_iter) or improve the scaling of the input data.\n",
      "[W] [10:04:58.958529] L-BFGS: max iterations reached\n",
      "[W] [10:04:58.959375] Maximum iterations reached before solver is converged. To increase model accuracy you can increase the number of iterations (max_iter) or improve the scaling of the input data.\n",
      "[W] [10:04:58.968593] L-BFGS line search failed (code 4); stopping at the last valid step\n",
      "[W] [10:04:59.291374] L-BFGS: max iterations reached\n",
      "[W] [10:04:59.293505] Maximum iterations reached before solver is converged. To increase model accuracy you can increase the number of iterations (max_iter) or improve the scaling of the input data.\n",
      "[W] [10:04:59.577347] L-BFGS: max iterations reached\n",
      "[W] [10:04:59.578074] Maximum iterations reached before solver is converged. To increase model accuracy you can increase the number of iterations (max_iter) or improve the scaling of the input data.\n",
      "[W] [10:04:59.942964] L-BFGS: max iterations reached\n",
      "[W] [10:04:59.946946] Maximum iterations reached before solver is converged. To increase model accuracy you can increase the number of iterations (max_iter) or improve the scaling of the input data.\n",
      "[W] [10:04:59.958822] L-BFGS line search failed (code 4); stopping at the last valid step\n",
      "[W] [10:05:00.397357] L-BFGS: max iterations reached\n",
      "[W] [10:05:00.398134] Maximum iterations reached before solver is converged. To increase model accuracy you can increase the number of iterations (max_iter) or improve the scaling of the input data.\n",
      "[W] [10:05:00.686054] L-BFGS: max iterations reached\n",
      "[W] [10:05:00.686859] Maximum iterations reached before solver is converged. To increase model accuracy you can increase the number of iterations (max_iter) or improve the scaling of the input data.\n",
      "[W] [10:05:00.697926] L-BFGS line search failed (code 4); stopping at the last valid step\n",
      "[W] [10:05:01.128071] L-BFGS: max iterations reached\n",
      "[W] [10:05:01.128789] Maximum iterations reached before solver is converged. To increase model accuracy you can increase the number of iterations (max_iter) or improve the scaling of the input data.\n",
      "[W] [10:05:01.266899] L-BFGS line search failed (code 3); stopping at the last valid step\n",
      "[W] [10:05:01.608468] L-BFGS: max iterations reached\n",
      "[W] [10:05:01.609225] Maximum iterations reached before solver is converged. To increase model accuracy you can increase the number of iterations (max_iter) or improve the scaling of the input data.\n",
      "[W] [10:05:01.855283] L-BFGS stopped, because the line search failed to advance (step delta = 0.000000)\n",
      "[W] [10:05:02.084861] L-BFGS: max iterations reached\n",
      "[W] [10:05:02.085634] Maximum iterations reached before solver is converged. To increase model accuracy you can increase the number of iterations (max_iter) or improve the scaling of the input data.\n",
      "[W] [10:05:02.396963] L-BFGS: max iterations reached\n",
      "[W] [10:05:02.397675] Maximum iterations reached before solver is converged. To increase model accuracy you can increase the number of iterations (max_iter) or improve the scaling of the input data.\n",
      "[W] [10:05:02.408609] L-BFGS line search failed (code 4); stopping at the last valid step\n",
      "[W] [10:05:02.757098] L-BFGS: max iterations reached\n",
      "[W] [10:05:02.757922] Maximum iterations reached before solver is converged. To increase model accuracy you can increase the number of iterations (max_iter) or improve the scaling of the input data.\n",
      "[W] [10:05:03.050124] L-BFGS: max iterations reached\n",
      "[W] [10:05:03.050832] Maximum iterations reached before solver is converged. To increase model accuracy you can increase the number of iterations (max_iter) or improve the scaling of the input data.\n",
      "[W] [10:05:03.464885] L-BFGS line search failed (code 4); stopping at the last valid step\n",
      "[W] [10:05:03.845332] L-BFGS: max iterations reached\n",
      "[W] [10:05:03.846203] Maximum iterations reached before solver is converged. To increase model accuracy you can increase the number of iterations (max_iter) or improve the scaling of the input data.\n",
      "[W] [10:05:04.132232] L-BFGS: max iterations reached\n",
      "[W] [10:05:04.132949] Maximum iterations reached before solver is converged. To increase model accuracy you can increase the number of iterations (max_iter) or improve the scaling of the input data.\n",
      "[W] [10:05:04.428290] L-BFGS stopped, because the line search failed to advance (step delta = 0.000000)\n",
      "[W] [10:05:04.655911] L-BFGS: max iterations reached\n",
      "[W] [10:05:04.656618] Maximum iterations reached before solver is converged. To increase model accuracy you can increase the number of iterations (max_iter) or improve the scaling of the input data.\n",
      "[W] [10:05:04.996928] L-BFGS: max iterations reached\n",
      "[W] [10:05:04.997763] Maximum iterations reached before solver is converged. To increase model accuracy you can increase the number of iterations (max_iter) or improve the scaling of the input data.\n",
      "[W] [10:05:05.447551] L-BFGS: max iterations reached\n",
      "[W] [10:05:05.448340] Maximum iterations reached before solver is converged. To increase model accuracy you can increase the number of iterations (max_iter) or improve the scaling of the input data.\n",
      "[W] [10:05:05.460203] L-BFGS line search failed (code 4); stopping at the last valid step\n",
      "[W] [10:05:05.601339] L-BFGS line search failed (code 4); stopping at the last valid step\n",
      "[W] [10:05:05.959043] L-BFGS: max iterations reached\n",
      "[W] [10:05:05.959762] Maximum iterations reached before solver is converged. To increase model accuracy you can increase the number of iterations (max_iter) or improve the scaling of the input data.\n",
      "[W] [10:05:05.971422] L-BFGS line search failed (code 4); stopping at the last valid step\n",
      "[W] [10:05:06.299663] L-BFGS: max iterations reached\n",
      "[W] [10:05:06.300422] Maximum iterations reached before solver is converged. To increase model accuracy you can increase the number of iterations (max_iter) or improve the scaling of the input data.\n",
      "[W] [10:05:06.582962] L-BFGS: max iterations reached\n",
      "[W] [10:05:06.583745] Maximum iterations reached before solver is converged. To increase model accuracy you can increase the number of iterations (max_iter) or improve the scaling of the input data.\n",
      "[W] [10:05:06.595802] L-BFGS line search failed (code 4); stopping at the last valid step\n",
      "[W] [10:05:06.906704] L-BFGS: max iterations reached\n",
      "[W] [10:05:06.907478] Maximum iterations reached before solver is converged. To increase model accuracy you can increase the number of iterations (max_iter) or improve the scaling of the input data.\n",
      "[W] [10:05:07.215566] L-BFGS: max iterations reached\n",
      "[W] [10:05:07.216337] Maximum iterations reached before solver is converged. To increase model accuracy you can increase the number of iterations (max_iter) or improve the scaling of the input data.\n",
      "[W] [10:05:07.511461] L-BFGS: max iterations reached\n",
      "[W] [10:05:07.512176] Maximum iterations reached before solver is converged. To increase model accuracy you can increase the number of iterations (max_iter) or improve the scaling of the input data.\n",
      "[W] [10:05:07.949314] L-BFGS: max iterations reached\n",
      "[W] [10:05:07.950002] Maximum iterations reached before solver is converged. To increase model accuracy you can increase the number of iterations (max_iter) or improve the scaling of the input data.\n",
      "[W] [10:05:08.177640] L-BFGS: max iterations reached\n",
      "[W] [10:05:08.178164] Maximum iterations reached before solver is converged. To increase model accuracy you can increase the number of iterations (max_iter) or improve the scaling of the input data.\n",
      "[W] [10:05:08.504499] L-BFGS: max iterations reached\n",
      "[W] [10:05:08.505215] Maximum iterations reached before solver is converged. To increase model accuracy you can increase the number of iterations (max_iter) or improve the scaling of the input data.\n",
      "[W] [10:05:08.851060] L-BFGS stopped, because the line search failed to advance (step delta = 0.000000)\n",
      "[W] [10:05:09.076568] L-BFGS: max iterations reached\n",
      "[W] [10:05:09.077255] Maximum iterations reached before solver is converged. To increase model accuracy you can increase the number of iterations (max_iter) or improve the scaling of the input data.\n",
      "[W] [10:05:09.303969] L-BFGS: max iterations reached\n",
      "[W] [10:05:09.304825] Maximum iterations reached before solver is converged. To increase model accuracy you can increase the number of iterations (max_iter) or improve the scaling of the input data.\n",
      "[W] [10:05:09.316835] L-BFGS line search failed (code 4); stopping at the last valid step\n",
      "[W] [10:05:09.674886] L-BFGS: max iterations reached\n",
      "[W] [10:05:09.675640] Maximum iterations reached before solver is converged. To increase model accuracy you can increase the number of iterations (max_iter) or improve the scaling of the input data.\n",
      "[W] [10:05:09.969909] L-BFGS: max iterations reached\n",
      "[W] [10:05:09.970614] Maximum iterations reached before solver is converged. To increase model accuracy you can increase the number of iterations (max_iter) or improve the scaling of the input data.\n",
      "[W] [10:05:10.337599] L-BFGS: max iterations reached\n",
      "[W] [10:05:10.338370] Maximum iterations reached before solver is converged. To increase model accuracy you can increase the number of iterations (max_iter) or improve the scaling of the input data.\n",
      "[W] [10:05:10.706797] L-BFGS: max iterations reached\n",
      "[W] [10:05:10.707499] Maximum iterations reached before solver is converged. To increase model accuracy you can increase the number of iterations (max_iter) or improve the scaling of the input data.\n",
      "[W] [10:05:11.008986] L-BFGS: max iterations reached\n",
      "[W] [10:05:11.011098] Maximum iterations reached before solver is converged. To increase model accuracy you can increase the number of iterations (max_iter) or improve the scaling of the input data.\n",
      "[W] [10:05:11.488105] L-BFGS: max iterations reached\n",
      "[W] [10:05:11.488814] Maximum iterations reached before solver is converged. To increase model accuracy you can increase the number of iterations (max_iter) or improve the scaling of the input data.\n",
      "[W] [10:05:11.762918] L-BFGS line search failed (code 4); stopping at the last valid step\n",
      "[W] [10:05:12.116958] L-BFGS: max iterations reached\n",
      "[W] [10:05:12.117794] Maximum iterations reached before solver is converged. To increase model accuracy you can increase the number of iterations (max_iter) or improve the scaling of the input data.\n",
      "[W] [10:05:12.578325] L-BFGS: max iterations reached\n",
      "[W] [10:05:12.579088] Maximum iterations reached before solver is converged. To increase model accuracy you can increase the number of iterations (max_iter) or improve the scaling of the input data.\n",
      "[W] [10:05:12.981040] L-BFGS: max iterations reached\n",
      "[W] [10:05:12.988164] Maximum iterations reached before solver is converged. To increase model accuracy you can increase the number of iterations (max_iter) or improve the scaling of the input data.\n",
      "[W] [10:05:13.181171] L-BFGS stopped, because the line search failed to advance (step delta = 0.000000)\n",
      "[W] [10:05:13.200474] L-BFGS line search failed (code 4); stopping at the last valid step\n",
      "[W] [10:05:13.518455] L-BFGS: max iterations reached\n",
      "[W] [10:05:13.519648] Maximum iterations reached before solver is converged. To increase model accuracy you can increase the number of iterations (max_iter) or improve the scaling of the input data.\n",
      "[W] [10:05:14.049826] L-BFGS: max iterations reached\n",
      "[W] [10:05:14.050531] Maximum iterations reached before solver is converged. To increase model accuracy you can increase the number of iterations (max_iter) or improve the scaling of the input data.\n",
      "[W] [10:05:14.330689] L-BFGS: max iterations reached\n",
      "[W] [10:05:14.331453] Maximum iterations reached before solver is converged. To increase model accuracy you can increase the number of iterations (max_iter) or improve the scaling of the input data.\n",
      "[W] [10:05:14.772152] L-BFGS: max iterations reached\n",
      "[W] [10:05:14.776533] Maximum iterations reached before solver is converged. To increase model accuracy you can increase the number of iterations (max_iter) or improve the scaling of the input data.\n",
      "[W] [10:05:15.060378] L-BFGS: max iterations reached\n",
      "[W] [10:05:15.061162] Maximum iterations reached before solver is converged. To increase model accuracy you can increase the number of iterations (max_iter) or improve the scaling of the input data.\n",
      "[W] [10:05:15.288198] L-BFGS: max iterations reached\n",
      "[W] [10:05:15.288953] Maximum iterations reached before solver is converged. To increase model accuracy you can increase the number of iterations (max_iter) or improve the scaling of the input data.\n",
      "[W] [10:05:15.758921] L-BFGS: max iterations reached\n",
      "[W] [10:05:15.759610] Maximum iterations reached before solver is converged. To increase model accuracy you can increase the number of iterations (max_iter) or improve the scaling of the input data.\n",
      "[W] [10:05:16.215396] L-BFGS: max iterations reached\n",
      "[W] [10:05:16.216097] Maximum iterations reached before solver is converged. To increase model accuracy you can increase the number of iterations (max_iter) or improve the scaling of the input data.\n",
      "[W] [10:05:16.438804] L-BFGS: max iterations reached\n",
      "[W] [10:05:16.439343] Maximum iterations reached before solver is converged. To increase model accuracy you can increase the number of iterations (max_iter) or improve the scaling of the input data.\n",
      "[W] [10:05:16.778972] L-BFGS: max iterations reached\n",
      "[W] [10:05:16.779721] Maximum iterations reached before solver is converged. To increase model accuracy you can increase the number of iterations (max_iter) or improve the scaling of the input data.\n",
      "[W] [10:05:16.790880] L-BFGS line search failed (code 4); stopping at the last valid step\n",
      "[W] [10:05:17.016894] L-BFGS: max iterations reached\n",
      "[W] [10:05:17.017446] Maximum iterations reached before solver is converged. To increase model accuracy you can increase the number of iterations (max_iter) or improve the scaling of the input data.\n",
      "[W] [10:05:17.443375] L-BFGS: max iterations reached\n",
      "[W] [10:05:17.444196] Maximum iterations reached before solver is converged. To increase model accuracy you can increase the number of iterations (max_iter) or improve the scaling of the input data.\n",
      "[W] [10:05:18.179245] L-BFGS: max iterations reached\n",
      "[W] [10:05:18.179440] Maximum iterations reached before solver is converged. To increase model accuracy you can increase the number of iterations (max_iter) or improve the scaling of the input data.\n",
      "[W] [10:05:18.518063] L-BFGS: max iterations reached\n",
      "[W] [10:05:18.518777] Maximum iterations reached before solver is converged. To increase model accuracy you can increase the number of iterations (max_iter) or improve the scaling of the input data.\n",
      "[W] [10:05:18.808484] L-BFGS: max iterations reached\n",
      "[W] [10:05:18.809356] Maximum iterations reached before solver is converged. To increase model accuracy you can increase the number of iterations (max_iter) or improve the scaling of the input data.\n",
      "[W] [10:05:19.118397] L-BFGS: max iterations reached\n",
      "[W] [10:05:19.119094] Maximum iterations reached before solver is converged. To increase model accuracy you can increase the number of iterations (max_iter) or improve the scaling of the input data.\n",
      "[W] [10:05:19.572368] L-BFGS: max iterations reached\n",
      "[W] [10:05:19.573179] Maximum iterations reached before solver is converged. To increase model accuracy you can increase the number of iterations (max_iter) or improve the scaling of the input data.\n",
      "[W] [10:05:19.584883] L-BFGS line search failed (code 4); stopping at the last valid step\n",
      "[W] [10:05:20.078673] L-BFGS stopped, because the line search failed to advance (step delta = 0.000000)\n",
      "[W] [10:05:20.519125] L-BFGS: max iterations reached\n",
      "[W] [10:05:20.519806] Maximum iterations reached before solver is converged. To increase model accuracy you can increase the number of iterations (max_iter) or improve the scaling of the input data.\n",
      "[W] [10:05:20.979213] L-BFGS: max iterations reached\n",
      "[W] [10:05:20.980469] Maximum iterations reached before solver is converged. To increase model accuracy you can increase the number of iterations (max_iter) or improve the scaling of the input data.\n",
      "[W] [10:05:21.308375] L-BFGS: max iterations reached\n",
      "[W] [10:05:21.309099] Maximum iterations reached before solver is converged. To increase model accuracy you can increase the number of iterations (max_iter) or improve the scaling of the input data.\n",
      "[W] [10:05:21.653401] L-BFGS: max iterations reached\n",
      "[W] [10:05:21.654055] Maximum iterations reached before solver is converged. To increase model accuracy you can increase the number of iterations (max_iter) or improve the scaling of the input data.\n",
      "[W] [10:05:22.035931] L-BFGS: max iterations reached\n",
      "[W] [10:05:22.039491] Maximum iterations reached before solver is converged. To increase model accuracy you can increase the number of iterations (max_iter) or improve the scaling of the input data.\n",
      "[W] [10:05:22.466150] L-BFGS: max iterations reached\n",
      "[W] [10:05:22.466735] Maximum iterations reached before solver is converged. To increase model accuracy you can increase the number of iterations (max_iter) or improve the scaling of the input data.\n",
      "[W] [10:05:22.669160] L-BFGS line search failed (code 3); stopping at the last valid step\n",
      "[W] [10:05:23.121837] L-BFGS: max iterations reached\n",
      "[W] [10:05:23.122619] Maximum iterations reached before solver is converged. To increase model accuracy you can increase the number of iterations (max_iter) or improve the scaling of the input data.\n",
      "[W] [10:05:23.349772] L-BFGS: max iterations reached\n",
      "[W] [10:05:23.350347] Maximum iterations reached before solver is converged. To increase model accuracy you can increase the number of iterations (max_iter) or improve the scaling of the input data.\n",
      "[W] [10:05:24.126718] L-BFGS: max iterations reached\n",
      "[W] [10:05:24.127125] Maximum iterations reached before solver is converged. To increase model accuracy you can increase the number of iterations (max_iter) or improve the scaling of the input data.\n",
      "[W] [10:05:24.428856] L-BFGS: max iterations reached\n",
      "[W] [10:05:24.429568] Maximum iterations reached before solver is converged. To increase model accuracy you can increase the number of iterations (max_iter) or improve the scaling of the input data.\n",
      "[W] [10:05:24.712995] L-BFGS: max iterations reached\n",
      "[W] [10:05:24.713775] Maximum iterations reached before solver is converged. To increase model accuracy you can increase the number of iterations (max_iter) or improve the scaling of the input data.\n",
      "[W] [10:05:25.190642] L-BFGS: max iterations reached\n",
      "[W] [10:05:25.191461] Maximum iterations reached before solver is converged. To increase model accuracy you can increase the number of iterations (max_iter) or improve the scaling of the input data.\n",
      "[W] [10:05:25.615450] L-BFGS: max iterations reached\n",
      "[W] [10:05:25.616207] Maximum iterations reached before solver is converged. To increase model accuracy you can increase the number of iterations (max_iter) or improve the scaling of the input data.\n",
      "[W] [10:05:25.767122] L-BFGS stopped, because the line search failed to advance (step delta = 0.000000)\n",
      "[W] [10:05:26.213735] L-BFGS: max iterations reached\n",
      "[W] [10:05:26.214384] Maximum iterations reached before solver is converged. To increase model accuracy you can increase the number of iterations (max_iter) or improve the scaling of the input data.\n",
      "[W] [10:05:26.568781] L-BFGS: max iterations reached\n",
      "[W] [10:05:26.569357] Maximum iterations reached before solver is converged. To increase model accuracy you can increase the number of iterations (max_iter) or improve the scaling of the input data.\n",
      "[W] [10:05:26.579307] L-BFGS line search failed (code 4); stopping at the last valid step\n",
      "[W] [10:05:26.990263] L-BFGS: max iterations reached\n",
      "[W] [10:05:26.990932] Maximum iterations reached before solver is converged. To increase model accuracy you can increase the number of iterations (max_iter) or improve the scaling of the input data.\n",
      "[W] [10:05:27.213399] L-BFGS: max iterations reached\n",
      "[W] [10:05:27.214239] Maximum iterations reached before solver is converged. To increase model accuracy you can increase the number of iterations (max_iter) or improve the scaling of the input data.\n",
      "[W] [10:05:27.545680] L-BFGS: max iterations reached\n",
      "[W] [10:05:27.546297] Maximum iterations reached before solver is converged. To increase model accuracy you can increase the number of iterations (max_iter) or improve the scaling of the input data.\n",
      "[W] [10:05:27.908639] L-BFGS: max iterations reached\n",
      "[W] [10:05:27.909389] Maximum iterations reached before solver is converged. To increase model accuracy you can increase the number of iterations (max_iter) or improve the scaling of the input data.\n",
      "[W] [10:05:27.919951] L-BFGS line search failed (code 4); stopping at the last valid step\n",
      "[W] [10:05:28.264409] L-BFGS: max iterations reached\n",
      "[W] [10:05:28.265234] Maximum iterations reached before solver is converged. To increase model accuracy you can increase the number of iterations (max_iter) or improve the scaling of the input data.\n",
      "[W] [10:05:28.703018] L-BFGS: max iterations reached\n",
      "[W] [10:05:28.703743] Maximum iterations reached before solver is converged. To increase model accuracy you can increase the number of iterations (max_iter) or improve the scaling of the input data.\n",
      "[W] [10:05:28.993165] L-BFGS: max iterations reached\n",
      "[W] [10:05:28.993864] Maximum iterations reached before solver is converged. To increase model accuracy you can increase the number of iterations (max_iter) or improve the scaling of the input data.\n",
      "[W] [10:05:29.293621] L-BFGS: max iterations reached\n",
      "[W] [10:05:29.294340] Maximum iterations reached before solver is converged. To increase model accuracy you can increase the number of iterations (max_iter) or improve the scaling of the input data.\n",
      "[W] [10:05:29.608287] L-BFGS: max iterations reached\n",
      "[W] [10:05:29.609003] Maximum iterations reached before solver is converged. To increase model accuracy you can increase the number of iterations (max_iter) or improve the scaling of the input data.\n",
      "[W] [10:05:29.833676] L-BFGS: max iterations reached\n",
      "[W] [10:05:29.834204] Maximum iterations reached before solver is converged. To increase model accuracy you can increase the number of iterations (max_iter) or improve the scaling of the input data.\n",
      "[W] [10:05:30.249712] L-BFGS: max iterations reached\n",
      "[W] [10:05:30.250294] Maximum iterations reached before solver is converged. To increase model accuracy you can increase the number of iterations (max_iter) or improve the scaling of the input data.\n",
      "[W] [10:05:30.707148] L-BFGS: max iterations reached\n",
      "[W] [10:05:30.707910] Maximum iterations reached before solver is converged. To increase model accuracy you can increase the number of iterations (max_iter) or improve the scaling of the input data.\n",
      "[W] [10:05:31.021921] L-BFGS: max iterations reached\n",
      "[W] [10:05:31.022769] Maximum iterations reached before solver is converged. To increase model accuracy you can increase the number of iterations (max_iter) or improve the scaling of the input data.\n",
      "[W] [10:05:31.459271] L-BFGS: max iterations reached\n",
      "[W] [10:05:31.460086] Maximum iterations reached before solver is converged. To increase model accuracy you can increase the number of iterations (max_iter) or improve the scaling of the input data.\n",
      "[W] [10:05:31.687570] L-BFGS: max iterations reached\n",
      "[W] [10:05:31.688331] Maximum iterations reached before solver is converged. To increase model accuracy you can increase the number of iterations (max_iter) or improve the scaling of the input data.\n",
      "[W] [10:05:32.163323] L-BFGS: max iterations reached\n",
      "[W] [10:05:32.164119] Maximum iterations reached before solver is converged. To increase model accuracy you can increase the number of iterations (max_iter) or improve the scaling of the input data.\n",
      "[W] [10:05:32.478130] L-BFGS: max iterations reached\n",
      "[W] [10:05:32.478796] Maximum iterations reached before solver is converged. To increase model accuracy you can increase the number of iterations (max_iter) or improve the scaling of the input data.\n",
      "[W] [10:05:32.774747] L-BFGS: max iterations reached\n",
      "[W] [10:05:32.779958] Maximum iterations reached before solver is converged. To increase model accuracy you can increase the number of iterations (max_iter) or improve the scaling of the input data.\n",
      "[W] [10:05:33.087121] L-BFGS: max iterations reached\n",
      "[W] [10:05:33.087902] Maximum iterations reached before solver is converged. To increase model accuracy you can increase the number of iterations (max_iter) or improve the scaling of the input data.\n",
      "[W] [10:05:33.810313] L-BFGS: max iterations reached\n",
      "[W] [10:05:33.810501] Maximum iterations reached before solver is converged. To increase model accuracy you can increase the number of iterations (max_iter) or improve the scaling of the input data.\n",
      "[W] [10:05:34.326243] L-BFGS: max iterations reached\n",
      "[W] [10:05:34.326959] Maximum iterations reached before solver is converged. To increase model accuracy you can increase the number of iterations (max_iter) or improve the scaling of the input data.\n",
      "[W] [10:05:34.617519] L-BFGS: max iterations reached\n",
      "[W] [10:05:34.618340] Maximum iterations reached before solver is converged. To increase model accuracy you can increase the number of iterations (max_iter) or improve the scaling of the input data.\n",
      "[W] [10:05:35.090801] L-BFGS: max iterations reached\n",
      "[W] [10:05:35.091353] Maximum iterations reached before solver is converged. To increase model accuracy you can increase the number of iterations (max_iter) or improve the scaling of the input data.\n",
      "[W] [10:05:35.440598] L-BFGS: max iterations reached\n",
      "[W] [10:05:35.441401] Maximum iterations reached before solver is converged. To increase model accuracy you can increase the number of iterations (max_iter) or improve the scaling of the input data.\n",
      "[W] [10:05:35.881389] L-BFGS: max iterations reached\n",
      "[W] [10:05:35.882252] Maximum iterations reached before solver is converged. To increase model accuracy you can increase the number of iterations (max_iter) or improve the scaling of the input data.\n",
      "[W] [10:05:36.112916] L-BFGS: max iterations reached\n",
      "[W] [10:05:36.113687] Maximum iterations reached before solver is converged. To increase model accuracy you can increase the number of iterations (max_iter) or improve the scaling of the input data.\n",
      "[W] [10:05:36.463671] L-BFGS: max iterations reached\n",
      "[W] [10:05:36.464237] Maximum iterations reached before solver is converged. To increase model accuracy you can increase the number of iterations (max_iter) or improve the scaling of the input data.\n",
      "[W] [10:05:36.871232] L-BFGS: max iterations reached\n",
      "[W] [10:05:36.871961] Maximum iterations reached before solver is converged. To increase model accuracy you can increase the number of iterations (max_iter) or improve the scaling of the input data.\n",
      "[W] [10:05:37.763160] L-BFGS: max iterations reached\n",
      "[W] [10:05:37.763390] Maximum iterations reached before solver is converged. To increase model accuracy you can increase the number of iterations (max_iter) or improve the scaling of the input data.\n"
     ]
    },
    {
     "data": {
      "text/plain": [
       "OneVsRestClassifier()"
      ]
     },
     "execution_count": 12,
     "metadata": {},
     "output_type": "execute_result"
    }
   ],
   "source": [
    "log_reg = OneVsRestClassifier(LogisticRegression())\n",
    "log_reg.fit(X_train.astype('float32'),Y_train.astype('float32'))"
   ]
  },
  {
   "cell_type": "markdown",
   "id": "4ad5a71e",
   "metadata": {
    "papermill": {
     "duration": 0.090665,
     "end_time": "2022-03-16T10:05:37.955912",
     "exception": false,
     "start_time": "2022-03-16T10:05:37.865247",
     "status": "completed"
    },
    "tags": []
   },
   "source": [
    "**below we just want to predict the y values **"
   ]
  },
  {
   "cell_type": "code",
   "execution_count": 13,
   "id": "a377cf5b",
   "metadata": {
    "execution": {
     "iopub.execute_input": "2022-03-16T10:05:38.145362Z",
     "iopub.status.busy": "2022-03-16T10:05:38.144266Z",
     "iopub.status.idle": "2022-03-16T10:05:38.980862Z",
     "shell.execute_reply": "2022-03-16T10:05:38.980345Z",
     "shell.execute_reply.started": "2022-03-16T09:23:41.242165Z"
    },
    "papermill": {
     "duration": 0.931972,
     "end_time": "2022-03-16T10:05:38.980985",
     "exception": false,
     "start_time": "2022-03-16T10:05:38.049013",
     "status": "completed"
    },
    "tags": []
   },
   "outputs": [],
   "source": [
    " y_pred_logistic = log_reg.predict(X_test.astype('float32'))"
   ]
  },
  {
   "cell_type": "code",
   "execution_count": 14,
   "id": "46e70741",
   "metadata": {
    "execution": {
     "iopub.execute_input": "2022-03-16T10:05:39.174139Z",
     "iopub.status.busy": "2022-03-16T10:05:39.173432Z",
     "iopub.status.idle": "2022-03-16T10:05:39.175682Z",
     "shell.execute_reply": "2022-03-16T10:05:39.176190Z",
     "shell.execute_reply.started": "2022-03-16T09:23:45.636721Z"
    },
    "papermill": {
     "duration": 0.096562,
     "end_time": "2022-03-16T10:05:39.176346",
     "exception": false,
     "start_time": "2022-03-16T10:05:39.079784",
     "status": "completed"
    },
    "tags": []
   },
   "outputs": [],
   "source": [
    " y_pred_logistic=y_pred_logistic.astype('int32')"
   ]
  },
  {
   "cell_type": "code",
   "execution_count": 15,
   "id": "053b26f1",
   "metadata": {
    "execution": {
     "iopub.execute_input": "2022-03-16T10:05:39.361990Z",
     "iopub.status.busy": "2022-03-16T10:05:39.361363Z",
     "iopub.status.idle": "2022-03-16T10:05:39.364329Z",
     "shell.execute_reply": "2022-03-16T10:05:39.364729Z",
     "shell.execute_reply.started": "2022-03-16T09:23:48.353098Z"
    },
    "papermill": {
     "duration": 0.09817,
     "end_time": "2022-03-16T10:05:39.364861",
     "exception": false,
     "start_time": "2022-03-16T10:05:39.266691",
     "status": "completed"
    },
    "tags": []
   },
   "outputs": [
    {
     "data": {
      "text/plain": [
       "array([ 11,  21,  11, ...,  11,  21, 164], dtype=int32)"
      ]
     },
     "execution_count": 15,
     "metadata": {},
     "output_type": "execute_result"
    }
   ],
   "source": [
    "y_pred_logistic"
   ]
  },
  {
   "cell_type": "markdown",
   "id": "7e31d9c1",
   "metadata": {
    "papermill": {
     "duration": 0.089199,
     "end_time": "2022-03-16T10:05:39.544222",
     "exception": false,
     "start_time": "2022-03-16T10:05:39.455023",
     "status": "completed"
    },
    "tags": []
   },
   "source": [
    "**cuml accuracy score we are calculating here**"
   ]
  },
  {
   "cell_type": "code",
   "execution_count": 16,
   "id": "f2316d3d",
   "metadata": {
    "execution": {
     "iopub.execute_input": "2022-03-16T10:05:39.731677Z",
     "iopub.status.busy": "2022-03-16T10:05:39.730856Z",
     "iopub.status.idle": "2022-03-16T10:05:40.478697Z",
     "shell.execute_reply": "2022-03-16T10:05:40.478155Z",
     "shell.execute_reply.started": "2022-03-16T09:23:54.180444Z"
    },
    "papermill": {
     "duration": 0.842174,
     "end_time": "2022-03-16T10:05:40.478824",
     "exception": false,
     "start_time": "2022-03-16T10:05:39.636650",
     "status": "completed"
    },
    "tags": []
   },
   "outputs": [],
   "source": [
    "accuracy_score = cuml.metrics.accuracy_score(Y_train, y_pred_logistic)"
   ]
  },
  {
   "cell_type": "code",
   "execution_count": 17,
   "id": "673bc02d",
   "metadata": {
    "execution": {
     "iopub.execute_input": "2022-03-16T10:05:40.666984Z",
     "iopub.status.busy": "2022-03-16T10:05:40.666183Z",
     "iopub.status.idle": "2022-03-16T10:05:40.669136Z",
     "shell.execute_reply": "2022-03-16T10:05:40.669538Z",
     "shell.execute_reply.started": "2022-03-16T09:23:58.939602Z"
    },
    "papermill": {
     "duration": 0.099294,
     "end_time": "2022-03-16T10:05:40.669676",
     "exception": false,
     "start_time": "2022-03-16T10:05:40.570382",
     "status": "completed"
    },
    "tags": []
   },
   "outputs": [
    {
     "data": {
      "text/plain": [
       "0.008750000037252903"
      ]
     },
     "execution_count": 17,
     "metadata": {},
     "output_type": "execute_result"
    }
   ],
   "source": [
    "accuracy_score"
   ]
  },
  {
   "cell_type": "markdown",
   "id": "5a18c152",
   "metadata": {
    "papermill": {
     "duration": 0.091282,
     "end_time": "2022-03-16T10:05:40.852116",
     "exception": false,
     "start_time": "2022-03-16T10:05:40.760834",
     "status": "completed"
    },
    "tags": []
   },
   "source": [
    "# 2. **Knn**"
   ]
  },
  {
   "cell_type": "code",
   "execution_count": 18,
   "id": "aacf2904",
   "metadata": {
    "execution": {
     "iopub.execute_input": "2022-03-16T10:05:41.045866Z",
     "iopub.status.busy": "2022-03-16T10:05:41.044915Z",
     "iopub.status.idle": "2022-03-16T10:05:41.787645Z",
     "shell.execute_reply": "2022-03-16T10:05:41.788018Z",
     "shell.execute_reply.started": "2022-03-16T09:24:04.171181Z"
    },
    "papermill": {
     "duration": 0.842956,
     "end_time": "2022-03-16T10:05:41.788183",
     "exception": false,
     "start_time": "2022-03-16T10:05:40.945227",
     "status": "completed"
    },
    "tags": []
   },
   "outputs": [
    {
     "data": {
      "text/plain": [
       "KNeighborsClassifier()"
      ]
     },
     "execution_count": 18,
     "metadata": {},
     "output_type": "execute_result"
    }
   ],
   "source": [
    " from cuml.neighbors import KNeighborsClassifier\n",
    "knn = KNeighborsClassifier(n_neighbors=3)\n",
    "knn.fit(X_train,Y_train)"
   ]
  },
  {
   "cell_type": "code",
   "execution_count": 19,
   "id": "63cba52d",
   "metadata": {
    "execution": {
     "iopub.execute_input": "2022-03-16T10:05:41.975856Z",
     "iopub.status.busy": "2022-03-16T10:05:41.974982Z",
     "iopub.status.idle": "2022-03-16T10:05:42.518415Z",
     "shell.execute_reply": "2022-03-16T10:05:42.517890Z",
     "shell.execute_reply.started": "2022-03-16T09:24:06.556136Z"
    },
    "papermill": {
     "duration": 0.639047,
     "end_time": "2022-03-16T10:05:42.518562",
     "exception": false,
     "start_time": "2022-03-16T10:05:41.879515",
     "status": "completed"
    },
    "tags": []
   },
   "outputs": [],
   "source": [
    "knn_predict=knn.predict(X_test)"
   ]
  },
  {
   "cell_type": "code",
   "execution_count": 20,
   "id": "a778be49",
   "metadata": {
    "execution": {
     "iopub.execute_input": "2022-03-16T10:05:42.709710Z",
     "iopub.status.busy": "2022-03-16T10:05:42.708994Z",
     "iopub.status.idle": "2022-03-16T10:05:42.711819Z",
     "shell.execute_reply": "2022-03-16T10:05:42.712271Z",
     "shell.execute_reply.started": "2022-03-16T09:24:08.829554Z"
    },
    "papermill": {
     "duration": 0.100724,
     "end_time": "2022-03-16T10:05:42.712418",
     "exception": false,
     "start_time": "2022-03-16T10:05:42.611694",
     "status": "completed"
    },
    "tags": []
   },
   "outputs": [
    {
     "data": {
      "text/plain": [
       "array([ 8, 41,  6, ...,  6, 32, 22])"
      ]
     },
     "execution_count": 20,
     "metadata": {},
     "output_type": "execute_result"
    }
   ],
   "source": [
    "knn_predict"
   ]
  },
  {
   "cell_type": "code",
   "execution_count": 21,
   "id": "bfaee373",
   "metadata": {
    "execution": {
     "iopub.execute_input": "2022-03-16T10:05:42.914983Z",
     "iopub.status.busy": "2022-03-16T10:05:42.914135Z",
     "iopub.status.idle": "2022-03-16T10:05:42.920259Z",
     "shell.execute_reply": "2022-03-16T10:05:42.919666Z",
     "shell.execute_reply.started": "2022-03-16T09:24:10.696707Z"
    },
    "papermill": {
     "duration": 0.10692,
     "end_time": "2022-03-16T10:05:42.920400",
     "exception": false,
     "start_time": "2022-03-16T10:05:42.813480",
     "status": "completed"
    },
    "tags": []
   },
   "outputs": [],
   "source": [
    "KNN_accuracy_score = cuml.metrics.accuracy_score(Y_train, knn_predict )"
   ]
  },
  {
   "cell_type": "markdown",
   "id": "11396002",
   "metadata": {
    "papermill": {
     "duration": 0.09296,
     "end_time": "2022-03-16T10:05:43.107517",
     "exception": false,
     "start_time": "2022-03-16T10:05:43.014557",
     "status": "completed"
    },
    "tags": []
   },
   "source": [
    "**printing the knn accuracy score**"
   ]
  },
  {
   "cell_type": "code",
   "execution_count": 22,
   "id": "8bfb1436",
   "metadata": {
    "execution": {
     "iopub.execute_input": "2022-03-16T10:05:43.300876Z",
     "iopub.status.busy": "2022-03-16T10:05:43.300170Z",
     "iopub.status.idle": "2022-03-16T10:05:43.303260Z",
     "shell.execute_reply": "2022-03-16T10:05:43.303706Z",
     "shell.execute_reply.started": "2022-03-16T09:24:13.475243Z"
    },
    "papermill": {
     "duration": 0.10329,
     "end_time": "2022-03-16T10:05:43.303861",
     "exception": false,
     "start_time": "2022-03-16T10:05:43.200571",
     "status": "completed"
    },
    "tags": []
   },
   "outputs": [
    {
     "data": {
      "text/plain": [
       "0.007735714316368103"
      ]
     },
     "execution_count": 22,
     "metadata": {},
     "output_type": "execute_result"
    }
   ],
   "source": [
    "KNN_accuracy_score"
   ]
  },
  {
   "cell_type": "markdown",
   "id": "ee0bb657",
   "metadata": {
    "papermill": {
     "duration": 0.094208,
     "end_time": "2022-03-16T10:05:43.500159",
     "exception": false,
     "start_time": "2022-03-16T10:05:43.405951",
     "status": "completed"
    },
    "tags": []
   },
   "source": [
    "# Implimenting Linear Regression"
   ]
  },
  {
   "cell_type": "code",
   "execution_count": 23,
   "id": "5f05092a",
   "metadata": {
    "execution": {
     "iopub.execute_input": "2022-03-16T10:05:43.694224Z",
     "iopub.status.busy": "2022-03-16T10:05:43.693208Z",
     "iopub.status.idle": "2022-03-16T10:05:43.694960Z",
     "shell.execute_reply": "2022-03-16T10:05:43.695413Z",
     "shell.execute_reply.started": "2022-03-16T09:24:16.680099Z"
    },
    "papermill": {
     "duration": 0.102923,
     "end_time": "2022-03-16T10:05:43.695552",
     "exception": false,
     "start_time": "2022-03-16T10:05:43.592629",
     "status": "completed"
    },
    "tags": []
   },
   "outputs": [],
   "source": [
    "lr = LinearRegression(fit_intercept = True, normalize = False,\n",
    "                      algorithm = \"eig\")"
   ]
  },
  {
   "cell_type": "code",
   "execution_count": 24,
   "id": "41d2d7fa",
   "metadata": {
    "execution": {
     "iopub.execute_input": "2022-03-16T10:05:44.007188Z",
     "iopub.status.busy": "2022-03-16T10:05:44.006107Z",
     "iopub.status.idle": "2022-03-16T10:05:45.663091Z",
     "shell.execute_reply": "2022-03-16T10:05:45.662485Z",
     "shell.execute_reply.started": "2022-03-16T09:24:19.225565Z"
    },
    "papermill": {
     "duration": 1.825995,
     "end_time": "2022-03-16T10:05:45.663244",
     "exception": false,
     "start_time": "2022-03-16T10:05:43.837249",
     "status": "completed"
    },
    "tags": []
   },
   "outputs": [],
   "source": [
    "reg = lr.fit(X_train.astype('float32'),Y_train.astype('float32'))"
   ]
  },
  {
   "cell_type": "code",
   "execution_count": 25,
   "id": "a10e8d83",
   "metadata": {
    "execution": {
     "iopub.execute_input": "2022-03-16T10:05:45.881889Z",
     "iopub.status.busy": "2022-03-16T10:05:45.880737Z",
     "iopub.status.idle": "2022-03-16T10:05:45.895859Z",
     "shell.execute_reply": "2022-03-16T10:05:45.895300Z",
     "shell.execute_reply.started": "2022-03-16T09:24:23.614606Z"
    },
    "papermill": {
     "duration": 0.125526,
     "end_time": "2022-03-16T10:05:45.896007",
     "exception": false,
     "start_time": "2022-03-16T10:05:45.770481",
     "status": "completed"
    },
    "tags": []
   },
   "outputs": [],
   "source": [
    "# make predictions based on model\n",
    "prediction = lr.predict(X_test)"
   ]
  },
  {
   "cell_type": "code",
   "execution_count": 26,
   "id": "d485a04e",
   "metadata": {
    "execution": {
     "iopub.execute_input": "2022-03-16T10:05:46.217298Z",
     "iopub.status.busy": "2022-03-16T10:05:46.216162Z",
     "iopub.status.idle": "2022-03-16T10:05:46.217927Z",
     "shell.execute_reply": "2022-03-16T10:05:46.218554Z",
     "shell.execute_reply.started": "2022-03-16T09:24:25.770319Z"
    },
    "papermill": {
     "duration": 0.15241,
     "end_time": "2022-03-16T10:05:46.218786",
     "exception": false,
     "start_time": "2022-03-16T10:05:46.066376",
     "status": "completed"
    },
    "tags": []
   },
   "outputs": [],
   "source": [
    "prediction=prediction.astype('int64')"
   ]
  },
  {
   "cell_type": "code",
   "execution_count": 27,
   "id": "9e3879dd",
   "metadata": {
    "execution": {
     "iopub.execute_input": "2022-03-16T10:05:46.517886Z",
     "iopub.status.busy": "2022-03-16T10:05:46.516882Z",
     "iopub.status.idle": "2022-03-16T10:05:46.524587Z",
     "shell.execute_reply": "2022-03-16T10:05:46.523719Z",
     "shell.execute_reply.started": "2022-03-16T07:57:59.664513Z"
    },
    "papermill": {
     "duration": 0.161985,
     "end_time": "2022-03-16T10:05:46.524778",
     "exception": false,
     "start_time": "2022-03-16T10:05:46.362793",
     "status": "completed"
    },
    "tags": []
   },
   "outputs": [
    {
     "data": {
      "text/plain": [
       "array([26, 40, 16, ...,  4, 45, 43])"
      ]
     },
     "execution_count": 27,
     "metadata": {},
     "output_type": "execute_result"
    }
   ],
   "source": [
    "prediction"
   ]
  },
  {
   "cell_type": "code",
   "execution_count": 28,
   "id": "04406688",
   "metadata": {
    "execution": {
     "iopub.execute_input": "2022-03-16T10:05:46.854038Z",
     "iopub.status.busy": "2022-03-16T10:05:46.853007Z",
     "iopub.status.idle": "2022-03-16T10:05:46.854890Z",
     "shell.execute_reply": "2022-03-16T10:05:46.855499Z",
     "shell.execute_reply.started": "2022-03-16T09:24:31.864642Z"
    },
    "papermill": {
     "duration": 0.177754,
     "end_time": "2022-03-16T10:05:46.855688",
     "exception": false,
     "start_time": "2022-03-16T10:05:46.677934",
     "status": "completed"
    },
    "tags": []
   },
   "outputs": [],
   "source": [
    "Linear_reg_accuracy_score = cuml.metrics.accuracy_score(Y_train, prediction )"
   ]
  },
  {
   "cell_type": "code",
   "execution_count": 29,
   "id": "08ab629d",
   "metadata": {
    "execution": {
     "iopub.execute_input": "2022-03-16T10:05:47.161439Z",
     "iopub.status.busy": "2022-03-16T10:05:47.160653Z",
     "iopub.status.idle": "2022-03-16T10:05:47.165909Z",
     "shell.execute_reply": "2022-03-16T10:05:47.166344Z",
     "shell.execute_reply.started": "2022-03-16T09:24:35.922010Z"
    },
    "papermill": {
     "duration": 0.160903,
     "end_time": "2022-03-16T10:05:47.166481",
     "exception": false,
     "start_time": "2022-03-16T10:05:47.005578",
     "status": "completed"
    },
    "tags": []
   },
   "outputs": [
    {
     "data": {
      "text/plain": [
       "0.00736428564414382"
      ]
     },
     "execution_count": 29,
     "metadata": {},
     "output_type": "execute_result"
    }
   ],
   "source": [
    "Linear_reg_accuracy_score"
   ]
  },
  {
   "cell_type": "markdown",
   "id": "6a5ca00c",
   "metadata": {
    "papermill": {
     "duration": 0.091301,
     "end_time": "2022-03-16T10:05:47.347318",
     "exception": false,
     "start_time": "2022-03-16T10:05:47.256017",
     "status": "completed"
    },
    "tags": []
   },
   "source": [
    "# **SVD**"
   ]
  },
  {
   "cell_type": "code",
   "execution_count": 30,
   "id": "4559a4d0",
   "metadata": {
    "execution": {
     "iopub.execute_input": "2022-03-16T10:05:47.533613Z",
     "iopub.status.busy": "2022-03-16T10:05:47.532760Z",
     "iopub.status.idle": "2022-03-16T10:05:47.534616Z",
     "shell.execute_reply": "2022-03-16T10:05:47.535012Z",
     "shell.execute_reply.started": "2022-03-16T09:27:09.632077Z"
    },
    "papermill": {
     "duration": 0.09781,
     "end_time": "2022-03-16T10:05:47.535174",
     "exception": false,
     "start_time": "2022-03-16T10:05:47.437364",
     "status": "completed"
    },
    "tags": []
   },
   "outputs": [],
   "source": [
    "lrs=LinearRegression(fit_intercept = True, normalize = False,\n",
    "                      algorithm = \"svd\")"
   ]
  },
  {
   "cell_type": "code",
   "execution_count": 31,
   "id": "982ee301",
   "metadata": {
    "execution": {
     "iopub.execute_input": "2022-03-16T10:05:47.730377Z",
     "iopub.status.busy": "2022-03-16T10:05:47.729402Z",
     "iopub.status.idle": "2022-03-16T10:05:47.747165Z",
     "shell.execute_reply": "2022-03-16T10:05:47.747788Z",
     "shell.execute_reply.started": "2022-03-16T09:27:29.771931Z"
    },
    "papermill": {
     "duration": 0.120547,
     "end_time": "2022-03-16T10:05:47.747957",
     "exception": false,
     "start_time": "2022-03-16T10:05:47.627410",
     "status": "completed"
    },
    "tags": []
   },
   "outputs": [
    {
     "data": {
      "text/plain": [
       "0.007428571581840515"
      ]
     },
     "execution_count": 31,
     "metadata": {},
     "output_type": "execute_result"
    }
   ],
   "source": [
    "# make predictions based on model\n",
    "prediction = lr.predict(X_test)\n",
    "\n",
    "\n",
    "prediction=prediction.astype('int64')\n",
    "\n",
    "prediction\n",
    "\n",
    "\n",
    "\n",
    "Linear_reg_accuracy_score = cuml.metrics.accuracy_score(Y_train, prediction )\n",
    "\n",
    "\n",
    "\n",
    "Linear_reg_accuracy_score\n"
   ]
  },
  {
   "cell_type": "markdown",
   "id": "ae6d9b5c",
   "metadata": {
    "papermill": {
     "duration": 0.09384,
     "end_time": "2022-03-16T10:05:47.936834",
     "exception": false,
     "start_time": "2022-03-16T10:05:47.842994",
     "status": "completed"
    },
    "tags": []
   },
   "source": [
    "# **QR Linear Regression Model**"
   ]
  },
  {
   "cell_type": "code",
   "execution_count": 32,
   "id": "260354da",
   "metadata": {
    "execution": {
     "iopub.execute_input": "2022-03-16T10:05:48.134567Z",
     "iopub.status.busy": "2022-03-16T10:05:48.132820Z",
     "iopub.status.idle": "2022-03-16T10:05:48.135249Z",
     "shell.execute_reply": "2022-03-16T10:05:48.135708Z",
     "shell.execute_reply.started": "2022-03-16T09:29:46.481513Z"
    },
    "papermill": {
     "duration": 0.10311,
     "end_time": "2022-03-16T10:05:48.135854",
     "exception": false,
     "start_time": "2022-03-16T10:05:48.032744",
     "status": "completed"
    },
    "tags": []
   },
   "outputs": [],
   "source": [
    "lrsq=LinearRegression(fit_intercept = True, normalize = False,\n",
    "                      algorithm = \"qr\")"
   ]
  },
  {
   "cell_type": "code",
   "execution_count": 33,
   "id": "936b609b",
   "metadata": {
    "execution": {
     "iopub.execute_input": "2022-03-16T10:05:48.337900Z",
     "iopub.status.busy": "2022-03-16T10:05:48.336794Z",
     "iopub.status.idle": "2022-03-16T10:05:48.354702Z",
     "shell.execute_reply": "2022-03-16T10:05:48.355215Z",
     "shell.execute_reply.started": "2022-03-16T09:30:12.895070Z"
    },
    "papermill": {
     "duration": 0.121189,
     "end_time": "2022-03-16T10:05:48.355379",
     "exception": false,
     "start_time": "2022-03-16T10:05:48.234190",
     "status": "completed"
    },
    "tags": []
   },
   "outputs": [
    {
     "data": {
      "text/plain": [
       "0.007707142736762762"
      ]
     },
     "execution_count": 33,
     "metadata": {},
     "output_type": "execute_result"
    }
   ],
   "source": [
    "# make predictions based on model\n",
    "prediction = lr.predict(X_test)\n",
    "prediction=prediction.astype('int64')\n",
    "prediction\n",
    "Linear_reg_accuracy_score = cuml.metrics.accuracy_score(Y_train, prediction )\n",
    "Linear_reg_accuracy_score"
   ]
  },
  {
   "cell_type": "markdown",
   "id": "6295ad85",
   "metadata": {
    "papermill": {
     "duration": 0.097632,
     "end_time": "2022-03-16T10:05:48.550533",
     "exception": false,
     "start_time": "2022-03-16T10:05:48.452901",
     "status": "completed"
    },
    "tags": []
   },
   "source": [
    "# **SVR-QD Model**"
   ]
  },
  {
   "cell_type": "code",
   "execution_count": 34,
   "id": "713ccc9f",
   "metadata": {
    "execution": {
     "iopub.execute_input": "2022-03-16T10:05:48.756543Z",
     "iopub.status.busy": "2022-03-16T10:05:48.755467Z",
     "iopub.status.idle": "2022-03-16T10:05:48.757439Z",
     "shell.execute_reply": "2022-03-16T10:05:48.757901Z",
     "shell.execute_reply.started": "2022-03-16T09:31:52.505076Z"
    },
    "papermill": {
     "duration": 0.107139,
     "end_time": "2022-03-16T10:05:48.758087",
     "exception": false,
     "start_time": "2022-03-16T10:05:48.650948",
     "status": "completed"
    },
    "tags": []
   },
   "outputs": [],
   "source": [
    "lrssq=LinearRegression(fit_intercept = True, normalize = False,\n",
    "                      algorithm = \"svd-qr\")"
   ]
  },
  {
   "cell_type": "code",
   "execution_count": 35,
   "id": "c397bc29",
   "metadata": {
    "execution": {
     "iopub.execute_input": "2022-03-16T10:05:48.961322Z",
     "iopub.status.busy": "2022-03-16T10:05:48.960430Z",
     "iopub.status.idle": "2022-03-16T10:05:48.980670Z",
     "shell.execute_reply": "2022-03-16T10:05:48.981115Z",
     "shell.execute_reply.started": "2022-03-16T09:32:03.446737Z"
    },
    "papermill": {
     "duration": 0.12292,
     "end_time": "2022-03-16T10:05:48.981282",
     "exception": false,
     "start_time": "2022-03-16T10:05:48.858362",
     "status": "completed"
    },
    "tags": []
   },
   "outputs": [
    {
     "data": {
      "text/plain": [
       "0.009985714219510555"
      ]
     },
     "execution_count": 35,
     "metadata": {},
     "output_type": "execute_result"
    }
   ],
   "source": [
    "# make predictions based on model\n",
    "prediction = lr.predict(X_test)\n",
    "prediction=prediction.astype('int64')\n",
    "prediction\n",
    "Linear_reg_accuracy_score = cuml.metrics.accuracy_score(Y_train, prediction )\n",
    "Linear_reg_accuracy_score"
   ]
  },
  {
   "cell_type": "markdown",
   "id": "92b5df02",
   "metadata": {
    "papermill": {
     "duration": 0.100749,
     "end_time": "2022-03-16T10:05:49.190195",
     "exception": false,
     "start_time": "2022-03-16T10:05:49.089446",
     "status": "completed"
    },
    "tags": []
   },
   "source": [
    "# **SVD-Jacobi **"
   ]
  },
  {
   "cell_type": "code",
   "execution_count": 36,
   "id": "eb1461e0",
   "metadata": {
    "execution": {
     "iopub.execute_input": "2022-03-16T10:05:49.396782Z",
     "iopub.status.busy": "2022-03-16T10:05:49.395791Z",
     "iopub.status.idle": "2022-03-16T10:05:49.398208Z",
     "shell.execute_reply": "2022-03-16T10:05:49.398610Z",
     "shell.execute_reply.started": "2022-03-16T09:32:47.413958Z"
    },
    "papermill": {
     "duration": 0.106862,
     "end_time": "2022-03-16T10:05:49.398762",
     "exception": false,
     "start_time": "2022-03-16T10:05:49.291900",
     "status": "completed"
    },
    "tags": []
   },
   "outputs": [],
   "source": [
    "lrssj=LinearRegression(fit_intercept = True, normalize = False,\n",
    "                      algorithm = \"svd-jacobi\")"
   ]
  },
  {
   "cell_type": "code",
   "execution_count": 37,
   "id": "f079526a",
   "metadata": {
    "execution": {
     "iopub.execute_input": "2022-03-16T10:05:49.589454Z",
     "iopub.status.busy": "2022-03-16T10:05:49.588558Z",
     "iopub.status.idle": "2022-03-16T10:05:49.605196Z",
     "shell.execute_reply": "2022-03-16T10:05:49.605648Z",
     "shell.execute_reply.started": "2022-03-16T09:52:49.930651Z"
    },
    "papermill": {
     "duration": 0.114254,
     "end_time": "2022-03-16T10:05:49.605795",
     "exception": false,
     "start_time": "2022-03-16T10:05:49.491541",
     "status": "completed"
    },
    "tags": []
   },
   "outputs": [
    {
     "data": {
      "text/plain": [
       "0.007321428507566452"
      ]
     },
     "execution_count": 37,
     "metadata": {},
     "output_type": "execute_result"
    }
   ],
   "source": [
    "# make predictions based on model\n",
    "prediction = lr.predict(X_test)\n",
    "prediction=prediction.astype('int64')\n",
    "prediction\n",
    "Linear_reg_accuracy_score_svd = cuml.metrics.accuracy_score(Y_train, prediction )\n",
    "Linear_reg_accuracy_score_svd"
   ]
  },
  {
   "cell_type": "code",
   "execution_count": 38,
   "id": "b0ee213e",
   "metadata": {
    "execution": {
     "iopub.execute_input": "2022-03-16T10:05:49.794466Z",
     "iopub.status.busy": "2022-03-16T10:05:49.793667Z",
     "iopub.status.idle": "2022-03-16T10:05:50.852293Z",
     "shell.execute_reply": "2022-03-16T10:05:50.851584Z",
     "shell.execute_reply.started": "2022-03-16T10:01:26.497872Z"
    },
    "papermill": {
     "duration": 1.15384,
     "end_time": "2022-03-16T10:05:50.852434",
     "exception": false,
     "start_time": "2022-03-16T10:05:49.698594",
     "status": "completed"
    },
    "tags": []
   },
   "outputs": [
    {
     "name": "stdout",
     "output_type": "stream",
     "text": [
      "Traceback (most recent call last):\r\n",
      "  File \"/opt/conda/bin/kaggle\", line 5, in <module>\r\n",
      "    from kaggle.cli import main\r\n",
      "  File \"/opt/conda/lib/python3.7/site-packages/kaggle/__init__.py\", line 23, in <module>\r\n",
      "    api.authenticate()\r\n",
      "  File \"/opt/conda/lib/python3.7/site-packages/kaggle/api/kaggle_api_extended.py\", line 166, in authenticate\r\n",
      "    self.config_file, self.config_dir))\r\n",
      "OSError: Could not find kaggle.json. Make sure it's located in /root/.kaggle. Or use the environment method.\r\n"
     ]
    }
   ],
   "source": [
    "#Submitting the results on Kaggle\n",
    "!kaggle competitions submit -c ammi-bootcamp -f Abhinav_101903421_eval_ques.csv -m \"Message\"\n"
   ]
  }
 ],
 "metadata": {
  "kernelspec": {
   "display_name": "Python 3",
   "language": "python",
   "name": "python3"
  },
  "language_info": {
   "codemirror_mode": {
    "name": "ipython",
    "version": 3
   },
   "file_extension": ".py",
   "mimetype": "text/x-python",
   "name": "python",
   "nbconvert_exporter": "python",
   "pygments_lexer": "ipython3",
   "version": "3.7.12"
  },
  "papermill": {
   "default_parameters": {},
   "duration": 95.507621,
   "end_time": "2022-03-16T10:05:52.664298",
   "environment_variables": {},
   "exception": null,
   "input_path": "__notebook__.ipynb",
   "output_path": "__notebook__.ipynb",
   "parameters": {},
   "start_time": "2022-03-16T10:04:17.156677",
   "version": "2.3.3"
  }
 },
 "nbformat": 4,
 "nbformat_minor": 5
}
